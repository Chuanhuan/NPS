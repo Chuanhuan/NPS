{
 "cells": [
  {
   "cell_type": "code",
   "execution_count": 47,
   "metadata": {},
   "outputs": [
    {
     "name": "stdout",
     "output_type": "stream",
     "text": [
      "The midpoint: 0.0, minimum value: -31.5, f_prime: [1. 1.]\n",
      "Iteration 1: a=-100, b=0.0, m=0.0, f(m)=-31.0\n",
      "The midpoint: -50.0, minimum value: -31.0, f_prime: [1. 1.]\n",
      "Iteration 2: a=-100, b=-50.0, m=-50.0, f(m)=32870.0\n",
      "The midpoint: -75.0, minimum value: 32870.0, f_prime: [201. 501.]\n",
      "Iteration 3: a=-100, b=-75.0, m=-75.0, f(m)=17022000097.0\n",
      "The midpoint: -87.5, minimum value: 17022000097.0, f_prime: [ 83001. 353751.]\n",
      "Iteration 4: a=-100, b=-87.5, m=-87.5, f(m)=1.5610549100155056e+16\n",
      "The midpoint: -93.75, minimum value: 1.5610549100155056e+16, f_prime: [5.28239760e+07 2.86195251e+08]\n",
      "Iteration 5: a=-100, b=-93.75, m=-93.75, f(m)=1.9112364754981546e+22\n",
      "The midpoint: -96.875, minimum value: 1.9112364754981546e+22, f_prime: [4.17403720e+10 2.46715686e+11]\n"
     ]
    }
   ],
   "source": [
    "# import math\n",
    "# import numpy as np \n",
    "\n",
    "# def my_bisection(f, x, d, a, b, mu, beta, epsilon , max_iterations=100):\n",
    "   \n",
    "#     i = 0\n",
    "#     while mu > epsilon:\n",
    "#     # for i in range(max_iterations):\n",
    "#         m = (a + b) / 2  # Midpoint\n",
    "#         print(f'The midpoint: {m}, minimum value: {f(x,mu)}, f_prime: {d(x)}')\n",
    "#         # x = x - m * d(x), d is positive\n",
    "#         x-= m *d(x)\n",
    "#         result = [i>0 for i in d(x)]\n",
    "\n",
    "#         if result[0] :\n",
    "#             b = m  \n",
    "#         else:\n",
    "#             a = m  \n",
    "#         i += 1\n",
    "#         mu = beta * mu\n",
    "#         if  i > max_iterations:\n",
    "#             break\n",
    "#         print(f'Iteration {i}: a={a}, b={b}, m={m}, f(m)={f(x,mu)}')\n",
    "#     return (a+b)/2\n",
    "\n",
    "# # Define the objective function and constraints\n",
    "# def objective_function(x):\n",
    "#   return x[0]**2 + 4*x[1]**2 - 8*x[0] - 16*x[1]\n",
    "\n",
    "# def constraint1(x):\n",
    "#   return x[0] + x[1] - 5\n",
    "\n",
    "# def func(x, mu ):\n",
    "#     return objective_function(x) + mu*max(0,constraint1(x))**2\n",
    "\n",
    "# def d(x):\n",
    "#     if max(0,constraint1(x)) >0:\n",
    "#         return np.array([2*x[0] - 8 + 2*mu*(x[0] + x[1] - 5), 8*x[1] - 16 + 2*mu*(x[0] + x[1] - 5)])\n",
    "#     else:\n",
    "#         return np.array([2*x[0] - 8, 8*x[1] - 16])\n",
    "\n",
    "# mu = 1/2\n",
    "# beta = 2\n",
    "# epsilon = .03\n",
    "# x = [4,2] \n",
    "    \n",
    "# m = my_bisection(f= func, x=x ,  d=d, a =-100, b=100, mu=mu, beta=beta, epsilon = epsilon , max_iterations=5)\n"
   ]
  },
  {
   "cell_type": "code",
   "execution_count": 16,
   "metadata": {},
   "outputs": [
    {
     "name": "stdout",
     "output_type": "stream",
     "text": [
      "[1. 1.]\n",
      "Iteration 0: a=[-100. -100.], b=[100. 100.], m=[0. 0.], f_prime(m)=[ -8. -16.]\n",
      "Iteration 1: a=[0. 0.], b=[100. 100.], m=[50. 50.], f_prime(m)=[282. 574.]\n",
      "Iteration 2: a=[0. 0.], b=[50. 50.], m=[25. 25.], f_prime(m)=[222. 364.]\n",
      "Iteration 3: a=[0. 0.], b=[25. 25.], m=[12.5 12.5], f_prime(m)=[177. 244.]\n",
      "Iteration 4: a=[0. 0.], b=[12.5 12.5], m=[6.25 6.25], f_prime(m)=[124.5 154. ]\n",
      "Iteration 5: a=[0. 0.], b=[6.25 6.25], m=[3.125 3.125], f_prime(m)=[38.25 49.  ]\n",
      "Iteration 6: a=[0. 0.], b=[3.125 3.125], m=[1.5625 1.5625], f_prime(m)=[-4.875 -3.5  ]\n",
      "Iteration 7: a=[1.5625 1.5625], b=[3.125 3.125], m=[2.34375 2.34375], f_prime(m)=[-3.3125  2.75  ]\n",
      "Iteration 8: a=[2.34375 1.5625 ], b=[3.125   2.34375], m=[2.734375 1.953125], f_prime(m)=[-2.53125 -0.375  ]\n",
      "Iteration 9: a=[2.734375 1.953125], b=[3.125   2.34375], m=[2.9296875 2.1484375], f_prime(m)=[37.859375 41.1875  ]\n",
      "Iteration 10: a=[2.734375 1.953125], b=[2.9296875 2.1484375], m=[2.83203125 2.05078125], f_prime(m)=[-2.3359375  0.40625  ]\n",
      "Iteration 11: a=[2.83203125 1.953125  ], b=[2.9296875  2.05078125], m=[2.88085938 2.00195312], f_prime(m)=[-2.23828125  0.015625  ]\n",
      "x1: 2.9052734375, x2: 1.9775390625, the objective function: -30.799555778503418\n"
     ]
    }
   ],
   "source": [
    "import numpy as np\n",
    "def my_bisection(f_prime, mu, beta, a, b, tol , max_iterations=1000):\n",
    "    \"\"\"\n",
    "    Approximates a root of the function f within the interval [a, b]\n",
    "    to within a specified tolerance |f(a+b/2)| < tol.\n",
    "\n",
    "    Args:\n",
    "        f: The function for which we want to find the root.\n",
    "        a, b: Interval endpoints.\n",
    "        tol: Tolerance (desired accuracy).\n",
    "\n",
    "    Returns:\n",
    "        Approximated root.\n",
    "    \"\"\"\n",
    "    # Check if a and b bound a root\n",
    "    # if f(a) * f(b) >= 0:\n",
    "    #     raise Exception(\"The scalars a and b do not bound a root\")\n",
    "    i = 0\n",
    "    while np.any(abs((b-a) / 2) >= tol):\n",
    "    # for i in range(max_iterations):\n",
    "        m = (a + b) / 2  # Midpoint\n",
    "        print(f'Iteration {i}: a={a}, b={b}, m={m}, f_prime(m)={f_prime(m,mu)}')\n",
    "        result = [i>0 for i in f_prime(m,mu)]\n",
    "\n",
    "        if result[0] :\n",
    "            b[0] = m[0]  \n",
    "        else:\n",
    "            a[0] = m[0] \n",
    "        if result[1] :\n",
    "            b[1] = m[1]  \n",
    "        else:\n",
    "            a[1] = m[1]              \n",
    "        \n",
    "        i += 1\n",
    "        mu = beta * mu\n",
    "        \n",
    "        if i==max_iterations:\n",
    "            break\n",
    "    return (a + b) / 2\n",
    "\n",
    "mu = 1/2\n",
    "beta = 2\n",
    "epsilon = .03\n",
    "x = [4,2] \n",
    "a = np.array([-100.0,-100.0])\n",
    "b = np.array([100.0,100.0])\n",
    "# Define the objective function and constraints\n",
    "def objective_function(x):\n",
    "  return x[0]**2 + 4*x[1]**2 - 8*x[0] - 16*x[1]\n",
    "\n",
    "def constraint1(x):\n",
    "  return x[0] + x[1] - 5\n",
    "\n",
    "def func(x, mu ):\n",
    "    return objective_function(x) + mu*max(0,constraint1(x))**2\n",
    "\n",
    "def d(x, mu):\n",
    "    if max(0,constraint1(x)) >0:\n",
    "        return np.array([2*x[0] - 8 + 2*mu*(x[0] + x[1] - 5), 8*x[1] - 16 + 2*mu*(x[0] + x[1] - 5)])\n",
    "    else:\n",
    "        return np.array([2*x[0] - 8, 8*x[1] - 16])\n",
    "\n",
    "print(d(x,mu))\n",
    "m = my_bisection(f_prime= d, mu = mu, beta = beta, a =a, b=b, tol = epsilon , max_iterations=100)\n",
    "print(f'x1: {m[0]}, x2: {m[1]}, the objective function: {objective_function(m)}')"
   ]
  },
  {
   "cell_type": "code",
   "execution_count": null,
   "metadata": {
    "vscode": {
     "languageId": "julia"
    }
   },
   "outputs": [
    {
     "ename": "ValueError",
     "evalue": "solve: Input operand 1 does not have enough dimensions (has 0, gufunc core with signature (m,m),(m,n)->(m,n) requires 2)",
     "output_type": "error",
     "traceback": [
      "\u001b[0;31m---------------------------------------------------------------------------\u001b[0m",
      "\u001b[0;31mValueError\u001b[0m                                Traceback (most recent call last)",
      "Cell \u001b[0;32mIn[18], line 40\u001b[0m\n\u001b[1;32m     37\u001b[0m mu \u001b[38;5;241m=\u001b[39m \u001b[38;5;241m1\u001b[39m\n\u001b[1;32m     39\u001b[0m \u001b[38;5;66;03m# Solve the equation using penalty function method with Newton's method\u001b[39;00m\n\u001b[0;32m---> 40\u001b[0m solution \u001b[38;5;241m=\u001b[39m \u001b[43mnewtons_method\u001b[49m\u001b[43m(\u001b[49m\u001b[38;5;28;43;01mlambda\u001b[39;49;00m\u001b[43m \u001b[49m\u001b[43mx\u001b[49m\u001b[43m:\u001b[49m\u001b[43m \u001b[49m\u001b[43mpenalty_function\u001b[49m\u001b[43m(\u001b[49m\u001b[43mx\u001b[49m\u001b[43m,\u001b[49m\u001b[43m \u001b[49m\u001b[43mmu\u001b[49m\u001b[43m)\u001b[49m\u001b[43m,\u001b[49m\n\u001b[1;32m     41\u001b[0m \u001b[43m                          \u001b[49m\u001b[38;5;28;43;01mlambda\u001b[39;49;00m\u001b[43m \u001b[49m\u001b[43mx\u001b[49m\u001b[43m:\u001b[49m\u001b[43m \u001b[49m\u001b[43mnp\u001b[49m\u001b[38;5;241;43m.\u001b[39;49m\u001b[43mconcatenate\u001b[49m\u001b[43m(\u001b[49m\u001b[43m[\u001b[49m\u001b[43mobjective_derivative\u001b[49m\u001b[43m(\u001b[49m\u001b[43mx\u001b[49m\u001b[43m)\u001b[49m\u001b[43m \u001b[49m\u001b[38;5;241;43m+\u001b[39;49m\u001b[43m \u001b[49m\u001b[38;5;241;43m2\u001b[39;49m\u001b[38;5;241;43m*\u001b[39;49m\u001b[43mmu\u001b[49m\u001b[38;5;241;43m*\u001b[39;49m\u001b[43mconstraint_function\u001b[49m\u001b[43m(\u001b[49m\u001b[43mx\u001b[49m\u001b[43m)\u001b[49m\u001b[38;5;241;43m*\u001b[39;49m\u001b[43mconstraint_derivative\u001b[49m\u001b[43m(\u001b[49m\u001b[43mx\u001b[49m\u001b[43m)\u001b[49m\u001b[43m,\u001b[49m\n\u001b[1;32m     42\u001b[0m \u001b[43m                                                    \u001b[49m\u001b[38;5;241;43m2\u001b[39;49m\u001b[38;5;241;43m*\u001b[39;49m\u001b[43mmu\u001b[49m\u001b[38;5;241;43m*\u001b[39;49m\u001b[38;5;28;43mmax\u001b[39;49m\u001b[43m(\u001b[49m\u001b[38;5;241;43m0\u001b[39;49m\u001b[43m,\u001b[49m\u001b[43m \u001b[49m\u001b[43mconstraint_function\u001b[49m\u001b[43m(\u001b[49m\u001b[43mx\u001b[49m\u001b[43m)\u001b[49m\u001b[43m)\u001b[49m\u001b[38;5;241;43m*\u001b[39;49m\u001b[43mconstraint_derivative\u001b[49m\u001b[43m(\u001b[49m\u001b[43mx\u001b[49m\u001b[43m)\u001b[49m\u001b[43m]\u001b[49m\u001b[43m)\u001b[49m\u001b[43m,\u001b[49m\n\u001b[1;32m     43\u001b[0m \u001b[43m                          \u001b[49m\u001b[43mx0\u001b[49m\u001b[43m)\u001b[49m\n\u001b[1;32m     45\u001b[0m \u001b[38;5;28mprint\u001b[39m(\u001b[38;5;124m\"\u001b[39m\u001b[38;5;124mSolution:\u001b[39m\u001b[38;5;124m\"\u001b[39m, solution)\n",
      "Cell \u001b[0;32mIn[18], line 31\u001b[0m, in \u001b[0;36mnewtons_method\u001b[0;34m(f, f_prime, x0, max_iterations, tolerance)\u001b[0m\n\u001b[1;32m     29\u001b[0m     J \u001b[38;5;241m=\u001b[39m np\u001b[38;5;241m.\u001b[39marray([f_prime(x)])\n\u001b[1;32m     30\u001b[0m     J \u001b[38;5;241m=\u001b[39m J\u001b[38;5;241m.\u001b[39mT \u001b[38;5;241m@\u001b[39m J  \u001b[38;5;66;03m# Ensure J has square dimensions\u001b[39;00m\n\u001b[0;32m---> 31\u001b[0m     delta_x \u001b[38;5;241m=\u001b[39m \u001b[43mnp\u001b[49m\u001b[38;5;241;43m.\u001b[39;49m\u001b[43mlinalg\u001b[49m\u001b[38;5;241;43m.\u001b[39;49m\u001b[43msolve\u001b[49m\u001b[43m(\u001b[49m\u001b[43mJ\u001b[49m\u001b[43m,\u001b[49m\u001b[43m \u001b[49m\u001b[38;5;241;43m-\u001b[39;49m\u001b[43mfx\u001b[49m\u001b[43m)\u001b[49m\n\u001b[1;32m     32\u001b[0m     x \u001b[38;5;241m+\u001b[39m\u001b[38;5;241m=\u001b[39m delta_x\n\u001b[1;32m     33\u001b[0m \u001b[38;5;28;01mreturn\u001b[39;00m x\n",
      "File \u001b[0;32m/usr/lib/python3.11/site-packages/numpy/linalg/linalg.py:409\u001b[0m, in \u001b[0;36msolve\u001b[0;34m(a, b)\u001b[0m\n\u001b[1;32m    407\u001b[0m signature \u001b[38;5;241m=\u001b[39m \u001b[38;5;124m'\u001b[39m\u001b[38;5;124mDD->D\u001b[39m\u001b[38;5;124m'\u001b[39m \u001b[38;5;28;01mif\u001b[39;00m isComplexType(t) \u001b[38;5;28;01melse\u001b[39;00m \u001b[38;5;124m'\u001b[39m\u001b[38;5;124mdd->d\u001b[39m\u001b[38;5;124m'\u001b[39m\n\u001b[1;32m    408\u001b[0m extobj \u001b[38;5;241m=\u001b[39m get_linalg_error_extobj(_raise_linalgerror_singular)\n\u001b[0;32m--> 409\u001b[0m r \u001b[38;5;241m=\u001b[39m \u001b[43mgufunc\u001b[49m\u001b[43m(\u001b[49m\u001b[43ma\u001b[49m\u001b[43m,\u001b[49m\u001b[43m \u001b[49m\u001b[43mb\u001b[49m\u001b[43m,\u001b[49m\u001b[43m \u001b[49m\u001b[43msignature\u001b[49m\u001b[38;5;241;43m=\u001b[39;49m\u001b[43msignature\u001b[49m\u001b[43m,\u001b[49m\u001b[43m \u001b[49m\u001b[43mextobj\u001b[49m\u001b[38;5;241;43m=\u001b[39;49m\u001b[43mextobj\u001b[49m\u001b[43m)\u001b[49m\n\u001b[1;32m    411\u001b[0m \u001b[38;5;28;01mreturn\u001b[39;00m wrap(r\u001b[38;5;241m.\u001b[39mastype(result_t, copy\u001b[38;5;241m=\u001b[39m\u001b[38;5;28;01mFalse\u001b[39;00m))\n",
      "\u001b[0;31mValueError\u001b[0m: solve: Input operand 1 does not have enough dimensions (has 0, gufunc core with signature (m,m),(m,n)->(m,n) requires 2)"
     ]
    }
   ],
   "source": [
    "import numpy as np\n",
    "\n",
    "# Define the objective function and constraint function\n",
    "def objective_function(x):\n",
    "    return x[0]**2 + 4*x[1]**2 - 8*x[0] - 16*x[1]\n",
    "\n",
    "def constraint_function(x):\n",
    "    return x[0] + x[1] - 5\n",
    "\n",
    "# Define the penalty function\n",
    "def penalty_function(x, mu):\n",
    "    return objective_function(x) + mu * max(0, constraint_function(x))**2\n",
    "\n",
    "# Define the derivative of the objective function\n",
    "def objective_derivative(x):\n",
    "    return np.array([2*x[0] - 8, 8*x[1] - 16])\n",
    "\n",
    "# Define the derivative of the constraint function\n",
    "def constraint_derivative(x):\n",
    "    return np.array([1, 1])\n",
    "\n",
    "# Implement Newton's method\n",
    "def newtons_method(f, f_prime, x0, max_iterations=100, tolerance=1e-6):\n",
    "    x = x0\n",
    "    for i in range(max_iterations):\n",
    "        fx = f(x)\n",
    "        if np.linalg.norm(fx) < tolerance:\n",
    "            break\n",
    "        J = np.array([f_prime(x)])\n",
    "        J = J.T @ J  # Ensure J has square dimensions\n",
    "        delta_x = np.linalg.solve(J, -fx.reshape(-1, 1))  # Reshape fx to have 2 dimensions\n",
    "        x += delta_x.flatten()  # Flatten delta_x to match the shape of x\n",
    "    return x\n",
    "\n",
    "# Set initial values and penalty parameter\n",
    "x0 = np.array([4, 2])\n",
    "mu = 1\n",
    "\n",
    "# Solve the equation using penalty function method with Newton's method\n",
    "solution = newtons_method(lambda x: penalty_function(x, mu),\n",
    "                          lambda x: np.concatenate([objective_derivative(x) + 2*mu*constraint_function(x)*constraint_derivative(x),\n",
    "                                                    2*mu*max(0, constraint_function(x))*constraint_derivative(x)]),\n",
    "                          x0)\n",
    "\n",
    "print(\"Solution:\", solution)"
   ]
  },
  {
   "cell_type": "code",
   "execution_count": 19,
   "metadata": {},
   "outputs": [
    {
     "name": "stdout",
     "output_type": "stream",
     "text": [
      "Iteration 0: a=[-100. -100.], b=[100. 100.], m=[0. 0.], f_prime(m)=[ -7.68 -15.68]\n",
      "Iteration 1: a=[0. 0.], b=[100. 100.], m=[50. 50.], f_prime(m)=[ 92.00044321 384.00044321]\n",
      "Iteration 2: a=[0. 0.], b=[50. 50.], m=[25. 25.], f_prime(m)=[ 42.00098765 184.00098765]\n",
      "Iteration 3: a=[0. 0.], b=[25. 25.], m=[12.5 12.5], f_prime(m)=[17.0025 84.0025]\n",
      "Iteration 4: a=[0. 0.], b=[12.5 12.5], m=[6.25 6.25], f_prime(m)=[ 4.50888889 34.00888889]\n",
      "Iteration 5: a=[0. 0.], b=[6.25 6.25], m=[3.125 3.125], f_prime(m)=[-1.59  9.16]\n",
      "Iteration 6: a=[3.125 0.   ], b=[6.25  3.125], m=[4.6875 1.5625], f_prime(m)=[ 1.455 -3.42 ]\n",
      "Iteration 7: a=[3.125  1.5625], b=[4.6875 3.125 ], m=[3.90625 2.34375], f_prime(m)=[-0.1475  2.79  ]\n",
      "Iteration 8: a=[3.90625 1.5625 ], b=[4.6875  2.34375], m=[4.296875 1.953125], f_prime(m)=[ 0.61375 -0.355  ]\n",
      "Iteration 9: a=[3.90625  1.953125], b=[4.296875 2.34375 ], m=[4.1015625 2.1484375], f_prime(m)=[0.213125 1.1975  ]\n",
      "Iteration 10: a=[3.90625  1.953125], b=[4.1015625 2.1484375], m=[4.00390625 2.05078125], f_prime(m)=[0.01483582 0.41327332]\n",
      "x1: 3.955078125, x2: 2.001953125, the objective function: -31.997966766357422\n"
     ]
    }
   ],
   "source": [
    "def objective_function(x):\n",
    "    # Define your objective function here\n",
    "    return x[0]**2 + 4*x[1]**2 - 8*x[0] - 16*x[1]\n",
    "\n",
    "def constraint_function(x):\n",
    "    # Define your constraint function here\n",
    "    return x[0] + x[1] - 5\n",
    "\n",
    "def barrier_function(x, mu):\n",
    "    # Calculate the penalty term\n",
    "    penalty = -1/constraint_function(x)\n",
    "\n",
    "    # Calculate the barrier function as the sum of the objective function and the penalty term\n",
    "    return objective_function(x) + mu * penalty\n",
    "\n",
    "def d(x, mu):\n",
    "    return np.array([2*x[0] - 8 + mu*(x[0] + x[1] - 5)**(-2), 8*x[1] - 16+ mu*(x[0] + x[1] - 5)**(-2)])\n",
    "\n",
    "mu = 8\n",
    "beta = .5\n",
    "epsilon = .06\n",
    "x = [4,2] \n",
    "a = np.array([-100.0,-100.0])\n",
    "b = np.array([100.0,100.0])\n",
    "m = my_bisection(f_prime= d, mu = mu, beta = beta, a =a, b=b, tol = epsilon , max_iterations=100)\n",
    "print(f'x1: {m[0]}, x2: {m[1]}, the objective function: {objective_function(m)}')\n"
   ]
  },
  {
   "cell_type": "code",
   "execution_count": 11,
   "metadata": {},
   "outputs": [
    {
     "name": "stdout",
     "output_type": "stream",
     "text": [
      "Optimal solution: [3.00099503 1.99900892]\n",
      "Objective function value: -31.00198514750079\n"
     ]
    }
   ],
   "source": [
    "import numpy as np\n",
    "\n",
    "def penalty_function(x, f, constraints, penalty_param):\n",
    "  \"\"\"\n",
    "  Calculates the penalty function value.\n",
    "\n",
    "  Args:\n",
    "    x: The decision variable vector.\n",
    "    f: The objective function.\n",
    "    constraints: A list of constraint functions.\n",
    "    penalty_param: The penalty parameter.\n",
    "\n",
    "  Returns:\n",
    "    The penalty function value.\n",
    "  \"\"\"\n",
    "  penalty = 0\n",
    "  for constraint in constraints:\n",
    "    violation = max(0, constraint(x))\n",
    "    penalty += penalty_param * violation**2\n",
    "  return f(x) + penalty\n",
    "\n",
    "# Define the objective function and constraints\n",
    "def objective_function(x):\n",
    "  return x[0]**2 + 4*x[1]**2 - 8*x[0] - 16*x[1]\n",
    "\n",
    "def constraint1(x):\n",
    "  return x[0] + x[1] - 5\n",
    "\n",
    "def constraint2(x):\n",
    "  return x[0] - 3\n",
    "\n",
    "# Set the initial guess, penalty parameter, and tolerance\n",
    "x0 = np.array([4, 2])\n",
    "penalty_param = 1000\n",
    "tolerance = .03\n",
    "\n",
    "# Use an unconstrained optimization algorithm to minimize the penalty function\n",
    "from scipy.optimize import minimize\n",
    "result = minimize(penalty_function, x0, args=(objective_function, [constraint1, constraint2], penalty_param))\n",
    "\n",
    "# Print the solution\n",
    "print(f\"Optimal solution: {result.x}\")\n",
    "print(f\"Objective function value: {objective_function(result.x)}\")\n"
   ]
  },
  {
   "cell_type": "code",
   "execution_count": 3,
   "metadata": {},
   "outputs": [
    {
     "name": "stdout",
     "output_type": "stream",
     "text": [
      "Optimal solution: [1. 1.]\n",
      "Objective function value: 2.0\n"
     ]
    }
   ],
   "source": []
  },
  {
   "cell_type": "code",
   "execution_count": 36,
   "metadata": {},
   "outputs": [
    {
     "name": "stdout",
     "output_type": "stream",
     "text": [
      "The midpoint: 1.5, minimum value: 5.25,f_prime(m)=5.0\n",
      "Iteration 0: a=-3, b=1.5, m=1.5, f_prime(m)=5.0\n",
      "The midpoint: -0.75, minimum value: -0.9375,f_prime(m)=0.5\n",
      "Iteration 1: a=-3, b=-0.75, m=-0.75, f_prime(m)=0.5\n",
      "The midpoint: -1.875, minimum value: -0.234375,f_prime(m)=-1.75\n",
      "Iteration 2: a=-1.875, b=-0.75, m=-1.875, f_prime(m)=-1.75\n",
      "The midpoint: -1.3125, minimum value: -0.90234375,f_prime(m)=-0.625\n",
      "Iteration 3: a=-1.3125, b=-0.75, m=-1.3125, f_prime(m)=-0.625\n",
      "The midpoint: -1.03125, minimum value: -0.9990234375,f_prime(m)=-0.0625\n",
      "Iteration 4: a=-1.03125, b=-0.75, m=-1.03125, f_prime(m)=-0.0625\n",
      "The midpoint: -0.890625, minimum value: -0.988037109375,f_prime(m)=0.21875\n",
      "Iteration 5: a=-1.03125, b=-0.890625, m=-0.890625, f_prime(m)=0.21875\n",
      "The midpoint: -0.9609375, minimum value: -0.99847412109375,f_prime(m)=0.078125\n",
      "Iteration 6: a=-1.03125, b=-0.9609375, m=-0.9609375, f_prime(m)=0.078125\n",
      "The midpoint: -0.99609375, minimum value: -0.9999847412109375,f_prime(m)=0.0078125\n",
      "Iteration 7: a=-1.03125, b=-0.99609375, m=-0.99609375, f_prime(m)=0.0078125\n",
      "The midpoint: -1.013671875, minimum value: -0.9998130798339844,f_prime(m)=-0.02734375\n",
      "Iteration 8: a=-1.013671875, b=-0.99609375, m=-1.013671875, f_prime(m)=-0.02734375\n",
      "The midpoint: -1.0048828125, minimum value: -0.9999761581420898,f_prime(m)=-0.009765625\n",
      "Iteration 9: a=-1.0048828125, b=-0.99609375, m=-1.0048828125, f_prime(m)=-0.009765625\n",
      "Approximated root: x = -1.000488\n"
     ]
    }
   ],
   "source": []
  },
  {
   "cell_type": "code",
   "execution_count": 46,
   "metadata": {},
   "outputs": [
    {
     "data": {
      "text/plain": [
       "2.2192403599463617e-05"
      ]
     },
     "execution_count": 46,
     "metadata": {},
     "output_type": "execute_result"
    }
   ],
   "source": []
  },
  {
   "cell_type": "code",
   "execution_count": null,
   "metadata": {},
   "outputs": [],
   "source": []
  }
 ],
 "metadata": {
  "kernelspec": {
   "display_name": "Python 3",
   "language": "python",
   "name": "python3"
  },
  "language_info": {
   "codemirror_mode": {
    "name": "ipython",
    "version": 3
   },
   "file_extension": ".py",
   "mimetype": "text/x-python",
   "name": "python",
   "nbconvert_exporter": "python",
   "pygments_lexer": "ipython3",
   "version": "3.11.8"
  }
 },
 "nbformat": 4,
 "nbformat_minor": 2
}
