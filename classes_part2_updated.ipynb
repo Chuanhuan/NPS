{
  "nbformat": 4,
  "nbformat_minor": 0,
  "metadata": {
    "colab": {
      "name": "classes_part2_updated.ipynb",
      "provenance": [],
      "include_colab_link": true
    },
    "kernelspec": {
      "display_name": "Python 3",
      "language": "python",
      "name": "python3"
    }
  },
  "cells": [
    {
      "cell_type": "markdown",
      "metadata": {
        "id": "view-in-github",
        "colab_type": "text"
      },
      "source": [
        "<a href=\"https://colab.research.google.com/github/Chuanhuan/NTU-NPS/blob/master/classes_part2_updated.ipynb\" target=\"_parent\"><img src=\"https://colab.research.google.com/assets/colab-badge.svg\" alt=\"Open In Colab\"/></a>"
      ]
    },
    {
      "cell_type": "markdown",
      "metadata": {
        "id": "vooo-SFhXqaP"
      },
      "source": [
        "# <center>OA3801 - Comp Methods for O.R. II</center>\n",
        " \n",
        "![nps_logo-150.jpg](attachment:nps_logo-150.jpg)\n",
        " \n",
        "## <center>Dr. David Alderson & Dr. Matthew Norton</center>\n",
        "## <center>Classes and Objects: Part 2</center>"
      ]
    },
    {
      "cell_type": "code",
      "metadata": {
        "colab": {
          "base_uri": "https://localhost:8080/"
        },
        "id": "P5Lswz3w81LF",
        "outputId": "fbefd07c-6739-4e63-b57e-ce64c45c43e5"
      },
      "source": [
        "!pwd"
      ],
      "execution_count": 1,
      "outputs": [
        {
          "output_type": "stream",
          "name": "stdout",
          "text": [
            "/content\n"
          ]
        }
      ]
    },
    {
      "cell_type": "markdown",
      "metadata": {
        "id": "jksfIQPDXqaS"
      },
      "source": [
        "### <center>From Last Session</center>\n",
        " \n",
        "* Python objects as containers of data values in their own namespace\n",
        " \n",
        "* Use of the ```class``` statement to define a Python class\n",
        " \n",
        "* Use of the 'dot' operator to access object attributes\n",
        " \n",
        "### <center>Today's Session</center>\n",
        " \n",
        "* A closer look at how to define the structure and behavior of Python classes\n",
        " \n",
        "* We will look at how all this works through the use of examples..."
      ]
    },
    {
      "cell_type": "markdown",
      "metadata": {
        "id": "UBTQZukuXqaV"
      },
      "source": [
        "### <center>A First Example: A Counting Object</center>\n",
        "\n",
        "![counter.jpg](attachment:counter.jpg)\n",
        "\n",
        "Let's imagine a simple object with the following features:\n",
        "* It contains a single piece of data, representing an integer counter\n",
        "* The counter can be incremented one at a time\n",
        "* The counter can be reset to zero"
      ]
    },
    {
      "cell_type": "code",
      "metadata": {
        "id": "bFxBnUiRXqaW"
      },
      "source": [
        "class Counter:\n",
        "    \"\"\"A simple object for counting up.\"\"\"\n",
        "    \n",
        "    def __init__(self):     # initialization: defines how to create an object\n",
        "        self.count = 0      # every instance starts with this attribute\n",
        "        \n",
        "    def inc(self):          # method to increment count by one\n",
        "        self.count += 1\n",
        "        \n",
        "    def reset(self):        # method to reset the count to zero\n",
        "        self.count = 0"
      ],
      "execution_count": null,
      "outputs": []
    },
    {
      "cell_type": "code",
      "metadata": {
        "id": "nJhiNuxhXqaf"
      },
      "source": [
        "c = Counter()"
      ],
      "execution_count": null,
      "outputs": []
    },
    {
      "cell_type": "code",
      "metadata": {
        "id": "HKUGRriRXqal",
        "outputId": "a97c7c0b-8b98-47c3-bb0f-db6e1998d26f"
      },
      "source": [
        "c.count"
      ],
      "execution_count": null,
      "outputs": [
        {
          "output_type": "execute_result",
          "data": {
            "text/plain": [
              "0"
            ]
          },
          "metadata": {
            "tags": []
          },
          "execution_count": 91
        }
      ]
    },
    {
      "cell_type": "code",
      "metadata": {
        "id": "UCdvdPA-Xqay"
      },
      "source": [
        "c.inc()"
      ],
      "execution_count": null,
      "outputs": []
    },
    {
      "cell_type": "code",
      "metadata": {
        "id": "pk-zBwvHXqa3",
        "outputId": "892f8776-e099-49e6-fcf7-f9060abc4bfb"
      },
      "source": [
        "c.count"
      ],
      "execution_count": null,
      "outputs": [
        {
          "output_type": "execute_result",
          "data": {
            "text/plain": [
              "1"
            ]
          },
          "metadata": {
            "tags": []
          },
          "execution_count": 93
        }
      ]
    },
    {
      "cell_type": "code",
      "metadata": {
        "id": "kCAIRIreXqa_"
      },
      "source": [
        "c.reset()"
      ],
      "execution_count": null,
      "outputs": []
    },
    {
      "cell_type": "code",
      "metadata": {
        "id": "0RSe7BmFXqbF",
        "outputId": "233bf06c-1858-4ae9-f350-3e937dd37f7e"
      },
      "source": [
        "c.count"
      ],
      "execution_count": null,
      "outputs": [
        {
          "output_type": "execute_result",
          "data": {
            "text/plain": [
              "0"
            ]
          },
          "metadata": {
            "tags": []
          },
          "execution_count": 95
        }
      ]
    },
    {
      "cell_type": "code",
      "metadata": {
        "id": "OvSAOu47XqbN"
      },
      "source": [
        "for i in range(3):\n",
        "    c.inc()"
      ],
      "execution_count": null,
      "outputs": []
    },
    {
      "cell_type": "code",
      "metadata": {
        "id": "8ZkRzcEJXqbV",
        "outputId": "0e665411-de0a-4619-dcb2-e90ffb733299"
      },
      "source": [
        "c.count"
      ],
      "execution_count": null,
      "outputs": [
        {
          "output_type": "execute_result",
          "data": {
            "text/plain": [
              "3"
            ]
          },
          "metadata": {
            "tags": []
          },
          "execution_count": 97
        }
      ]
    },
    {
      "cell_type": "markdown",
      "metadata": {
        "id": "zAwPx-7vXqbe"
      },
      "source": [
        "#### Key Idea: different instances of the same class can have different data inside them..."
      ]
    },
    {
      "cell_type": "code",
      "metadata": {
        "id": "m0ForknDXqbg"
      },
      "source": [
        "c2 = Counter()"
      ],
      "execution_count": null,
      "outputs": []
    },
    {
      "cell_type": "code",
      "metadata": {
        "id": "-GBbKu1AXqbm",
        "outputId": "db474a2b-37ff-4ca5-bfb1-7b272ad2fbdd"
      },
      "source": [
        "c2.count"
      ],
      "execution_count": null,
      "outputs": [
        {
          "output_type": "execute_result",
          "data": {
            "text/plain": [
              "0"
            ]
          },
          "metadata": {
            "tags": []
          },
          "execution_count": 99
        }
      ]
    },
    {
      "cell_type": "code",
      "metadata": {
        "id": "p8KXQmPgXqbx"
      },
      "source": [
        "for i in range(2):\n",
        "    c2.inc()"
      ],
      "execution_count": null,
      "outputs": []
    },
    {
      "cell_type": "code",
      "metadata": {
        "id": "vNhFl9G2Xqb5",
        "outputId": "531300f7-7668-4aad-f4d0-6beff1069dd6"
      },
      "source": [
        "c2.count"
      ],
      "execution_count": null,
      "outputs": [
        {
          "output_type": "execute_result",
          "data": {
            "text/plain": [
              "2"
            ]
          },
          "metadata": {
            "tags": []
          },
          "execution_count": 101
        }
      ]
    },
    {
      "cell_type": "code",
      "metadata": {
        "id": "QTROgmHoXqcE",
        "outputId": "6795bf2b-bb8b-4ad0-b369-0781e9a32c31"
      },
      "source": [
        "c.count"
      ],
      "execution_count": null,
      "outputs": [
        {
          "output_type": "execute_result",
          "data": {
            "text/plain": [
              "3"
            ]
          },
          "metadata": {
            "tags": []
          },
          "execution_count": 102
        }
      ]
    },
    {
      "cell_type": "code",
      "metadata": {
        "id": "A46QlXnmXqcO",
        "outputId": "830bea8e-8e04-4caa-e05c-f2ab80ebafc9"
      },
      "source": [
        "c"
      ],
      "execution_count": null,
      "outputs": [
        {
          "output_type": "execute_result",
          "data": {
            "text/plain": [
              "<__main__.Counter at 0x20086ac9f60>"
            ]
          },
          "metadata": {
            "tags": []
          },
          "execution_count": 103
        }
      ]
    },
    {
      "cell_type": "code",
      "metadata": {
        "id": "vndUynD3XqcY",
        "outputId": "4683ad16-db32-4fc5-b2e8-c2057d377416"
      },
      "source": [
        "c2"
      ],
      "execution_count": null,
      "outputs": [
        {
          "output_type": "execute_result",
          "data": {
            "text/plain": [
              "<__main__.Counter at 0x20086ae2048>"
            ]
          },
          "metadata": {
            "tags": []
          },
          "execution_count": 104
        }
      ]
    },
    {
      "cell_type": "markdown",
      "metadata": {
        "id": "eXgL6dpeXqcf"
      },
      "source": [
        "#### The variable names here are references to objects.  Here, they are different objects, even if they contain the same data.\n",
        "\n",
        "#### As discussed, assignment binds a name to an object.  It does not copy."
      ]
    },
    {
      "cell_type": "code",
      "metadata": {
        "id": "LhUyqoWxXqcj"
      },
      "source": [
        "c3 = c"
      ],
      "execution_count": null,
      "outputs": []
    },
    {
      "cell_type": "code",
      "metadata": {
        "id": "vKnhWt_QXqcq",
        "outputId": "9246af28-222d-4bb7-a3bd-18adee69933d"
      },
      "source": [
        "c3"
      ],
      "execution_count": null,
      "outputs": [
        {
          "output_type": "execute_result",
          "data": {
            "text/plain": [
              "<__main__.Counter at 0x20086ac9f60>"
            ]
          },
          "metadata": {
            "tags": []
          },
          "execution_count": 106
        }
      ]
    },
    {
      "cell_type": "code",
      "metadata": {
        "id": "TiMwUNkYXqc2",
        "outputId": "931664d0-7b27-4bcc-ba85-a990d6fbe7eb"
      },
      "source": [
        "c3.count"
      ],
      "execution_count": null,
      "outputs": [
        {
          "output_type": "execute_result",
          "data": {
            "text/plain": [
              "3"
            ]
          },
          "metadata": {
            "tags": []
          },
          "execution_count": 107
        }
      ]
    },
    {
      "cell_type": "code",
      "metadata": {
        "id": "AOHMcalzXqc9"
      },
      "source": [
        "c3.inc()"
      ],
      "execution_count": null,
      "outputs": []
    },
    {
      "cell_type": "code",
      "metadata": {
        "id": "t0PXbDBwXqdC",
        "outputId": "fbbf6ff2-54fb-48b8-ebba-32f1371d83a7"
      },
      "source": [
        "c.count"
      ],
      "execution_count": null,
      "outputs": [
        {
          "output_type": "execute_result",
          "data": {
            "text/plain": [
              "4"
            ]
          },
          "metadata": {
            "tags": []
          },
          "execution_count": 109
        }
      ]
    },
    {
      "cell_type": "markdown",
      "metadata": {
        "id": "YlYYvXSIXqdJ"
      },
      "source": [
        "#### By default comparison using ``==`` is to test if it's the same object (i.e., has same memory address)"
      ]
    },
    {
      "cell_type": "code",
      "metadata": {
        "id": "BpbFIUCNXqdK",
        "outputId": "4782c1e6-54fb-47eb-cc81-caea3ecbc78f"
      },
      "source": [
        "c == c2"
      ],
      "execution_count": null,
      "outputs": [
        {
          "output_type": "execute_result",
          "data": {
            "text/plain": [
              "False"
            ]
          },
          "metadata": {
            "tags": []
          },
          "execution_count": 110
        }
      ]
    },
    {
      "cell_type": "code",
      "metadata": {
        "id": "s6de4D_1XqdQ",
        "outputId": "fd1e9b37-268c-4125-bef2-f980b993a82e"
      },
      "source": [
        "c == c2"
      ],
      "execution_count": null,
      "outputs": [
        {
          "output_type": "execute_result",
          "data": {
            "text/plain": [
              "False"
            ]
          },
          "metadata": {
            "tags": []
          },
          "execution_count": 111
        }
      ]
    },
    {
      "cell_type": "code",
      "metadata": {
        "id": "DGOcyhufXqdZ",
        "outputId": "9157aae8-5e1e-471f-c9ef-0b1ebb105332"
      },
      "source": [
        "c == c3"
      ],
      "execution_count": null,
      "outputs": [
        {
          "output_type": "execute_result",
          "data": {
            "text/plain": [
              "True"
            ]
          },
          "metadata": {
            "tags": []
          },
          "execution_count": 112
        }
      ]
    },
    {
      "cell_type": "code",
      "metadata": {
        "id": "xVayf_cjXqdk",
        "outputId": "1385eef0-ba7a-4d7c-fb20-958bc4673466"
      },
      "source": [
        "c4 = Counter()\n",
        "c5 = Counter()\n",
        "c4 == c5"
      ],
      "execution_count": null,
      "outputs": [
        {
          "output_type": "execute_result",
          "data": {
            "text/plain": [
              "False"
            ]
          },
          "metadata": {
            "tags": []
          },
          "execution_count": 113
        }
      ]
    },
    {
      "cell_type": "markdown",
      "metadata": {
        "id": "AMymGohOXqdt"
      },
      "source": [
        "#### By default, the only thing Python knows to do when \"printing\" is to display object type and memory address"
      ]
    },
    {
      "cell_type": "code",
      "metadata": {
        "id": "FXa_jMtAXqdu",
        "outputId": "567c1bbf-2b2c-452a-ea8a-5864d500ff99"
      },
      "source": [
        "print(c)  #note: no understanding of how to \"print\" this object"
      ],
      "execution_count": null,
      "outputs": [
        {
          "output_type": "stream",
          "text": [
            "<__main__.Counter object at 0x0000020086AD4400>\n"
          ],
          "name": "stdout"
        }
      ]
    },
    {
      "cell_type": "markdown",
      "metadata": {
        "id": "nWjCEKf3Xqd0"
      },
      "source": [
        "#### As noted before, we can inspect the namespace of the object..."
      ]
    },
    {
      "cell_type": "code",
      "metadata": {
        "id": "fGzRzO3TXqd2",
        "outputId": "2f284eba-dbe3-4ee2-db11-090fdbaf4628"
      },
      "source": [
        "dir(c)"
      ],
      "execution_count": null,
      "outputs": [
        {
          "output_type": "execute_result",
          "data": {
            "text/plain": [
              "['__class__',\n",
              " '__delattr__',\n",
              " '__dict__',\n",
              " '__dir__',\n",
              " '__doc__',\n",
              " '__eq__',\n",
              " '__format__',\n",
              " '__ge__',\n",
              " '__getattribute__',\n",
              " '__gt__',\n",
              " '__hash__',\n",
              " '__init__',\n",
              " '__init_subclass__',\n",
              " '__le__',\n",
              " '__lt__',\n",
              " '__module__',\n",
              " '__ne__',\n",
              " '__new__',\n",
              " '__reduce__',\n",
              " '__reduce_ex__',\n",
              " '__repr__',\n",
              " '__setattr__',\n",
              " '__sizeof__',\n",
              " '__str__',\n",
              " '__subclasshook__',\n",
              " '__weakref__',\n",
              " 'count',\n",
              " 'inc',\n",
              " 'reset']"
            ]
          },
          "metadata": {
            "tags": []
          },
          "execution_count": 86
        }
      ]
    },
    {
      "cell_type": "markdown",
      "metadata": {
        "id": "pnaG_NmtXqd9"
      },
      "source": [
        "### <center>Recap: the ```__init__``` method</center>\n",
        "```\n",
        "class MyClass:\n",
        "    def __init__(self):\n",
        "        self.x = 'Hello’\n",
        "```\n",
        "* The **```self```** variable represents the instance of the object itself. \n",
        "\n",
        "* Most object-oriented languages pass this as a hidden parameter to the methods defined on an object; Python does not. You have to declare it explicitly.\n",
        "\n",
        "* The ```__init__``` method in Python is roughly what represents a constructor in other programming languages; it defines how to build an object of this class.\n",
        "\n",
        "* When you call ```MyClass()``` Python creates an object for you, and passes it as the first parameter to the __init__ method. Any additional parameters (e.g., ```MyClass(24,’ABC’)```) will also get passed as arguments--in this case causing an exception to be raised, since the constructor isn't expecting them."
      ]
    },
    {
      "cell_type": "markdown",
      "metadata": {
        "id": "FDsTA_HEXqd_"
      },
      "source": [
        "### <center>Recap: instance methods = defining object behavior</center>\n",
        "```\n",
        "class MyClass:\n",
        "    def __init__(self):\n",
        "        self.x = 'Hello’\n",
        "\n",
        "    def some_func(self, [args]):\n",
        "        # do something\n",
        "```\n",
        "* We write functions for our objects as we would anywhere else.  However, a function defined within an object is called a **method** of that object.\n",
        "\n",
        "* The first argument needs to be the keyword ```self```, if we want to access the data contained in the instance of the object\n",
        "\n",
        "* We call functions on the instance of the object\n",
        "```\n",
        "    a = MyClass()\n",
        "\ta.some_func([args])\n",
        "```"
      ]
    },
    {
      "cell_type": "markdown",
      "metadata": {
        "id": "eX8LTzKiXqd_"
      },
      "source": [
        "#### Okay, let's turn things up a little bit, and consider a slightly more complicated example."
      ]
    },
    {
      "cell_type": "code",
      "metadata": {
        "id": "H4YyxQBhXqeB"
      },
      "source": [
        "class SkipCounter:\n",
        "    \"\"\"A counter that skips by given step size.\"\"\"\n",
        "    \n",
        "    def __init__(self,step):      # initialization now requires an argument, the \"step\"\n",
        "        self.count = 0\n",
        "        self.step = step\n",
        "            \n",
        "    def inc(self):\n",
        "        self.count += self.step\n",
        "        \n",
        "    def dec(self):\n",
        "        self.count -= self.step\n",
        "        \n",
        "    def reset(self):\n",
        "        self.count = 0\n",
        "        \n",
        "    def __str__(self):  # defines how to represent the object \"as a string\" (for printing)\n",
        "        return \"SkipCounter<val:%d,step:%d>\" % (self.count,self.step) "
      ],
      "execution_count": null,
      "outputs": []
    },
    {
      "cell_type": "code",
      "metadata": {
        "id": "aqPiPWImXqeG",
        "outputId": "cc4b4603-31e3-406c-edb5-6344accc2e91"
      },
      "source": [
        "# note this object requires an argument (the step) to be created\n",
        "c = SkipCounter()"
      ],
      "execution_count": null,
      "outputs": [
        {
          "output_type": "error",
          "ename": "TypeError",
          "evalue": "__init__() missing 1 required positional argument: 'step'",
          "traceback": [
            "\u001b[1;31m---------------------------------------------------------------------------\u001b[0m",
            "\u001b[1;31mTypeError\u001b[0m                                 Traceback (most recent call last)",
            "\u001b[1;32m<ipython-input-88-ef39a671e5eb>\u001b[0m in \u001b[0;36m<module>\u001b[1;34m()\u001b[0m\n\u001b[0;32m      1\u001b[0m \u001b[1;31m# note this object requires an argument (the step) to be created\u001b[0m\u001b[1;33m\u001b[0m\u001b[1;33m\u001b[0m\u001b[0m\n\u001b[1;32m----> 2\u001b[1;33m \u001b[0mc\u001b[0m \u001b[1;33m=\u001b[0m \u001b[0mSkipCounter\u001b[0m\u001b[1;33m(\u001b[0m\u001b[1;33m)\u001b[0m\u001b[1;33m\u001b[0m\u001b[0m\n\u001b[0m",
            "\u001b[1;31mTypeError\u001b[0m: __init__() missing 1 required positional argument: 'step'"
          ]
        }
      ]
    },
    {
      "cell_type": "code",
      "metadata": {
        "id": "M7KEpFppXqeM"
      },
      "source": [
        "c = SkipCounter(2)"
      ],
      "execution_count": null,
      "outputs": []
    },
    {
      "cell_type": "code",
      "metadata": {
        "id": "eS1xY3lqXqeQ"
      },
      "source": [
        "# now c is a reference to a SkipCounter\n",
        "c"
      ],
      "execution_count": null,
      "outputs": []
    },
    {
      "cell_type": "code",
      "metadata": {
        "id": "WCnsIhCNXqeU"
      },
      "source": [
        "c.count"
      ],
      "execution_count": null,
      "outputs": []
    },
    {
      "cell_type": "code",
      "metadata": {
        "id": "2XJltIhIXqeZ"
      },
      "source": [
        "c.inc()\n",
        "c.count"
      ],
      "execution_count": null,
      "outputs": []
    },
    {
      "cell_type": "code",
      "metadata": {
        "id": "q1Tg47HUXqeg"
      },
      "source": [
        "# the function __str__() defines how to represent the object as a string\n",
        "str(c)"
      ],
      "execution_count": null,
      "outputs": []
    },
    {
      "cell_type": "code",
      "metadata": {
        "id": "Fg__E-3NXqel"
      },
      "source": [
        "# when we print something, python automatically converts to string\n",
        "print(c)"
      ],
      "execution_count": null,
      "outputs": []
    },
    {
      "cell_type": "code",
      "metadata": {
        "id": "b_uheUjdXqes"
      },
      "source": [
        "c2 = SkipCounter(5)\n",
        "print(c2)"
      ],
      "execution_count": null,
      "outputs": []
    },
    {
      "cell_type": "code",
      "metadata": {
        "id": "XSFMp4WOXqex"
      },
      "source": [
        "for i in range(5):\n",
        "    c2.inc()\n",
        "    c.dec()"
      ],
      "execution_count": null,
      "outputs": []
    },
    {
      "cell_type": "code",
      "metadata": {
        "id": "XKFYKel7XqfD"
      },
      "source": [
        "print(c, c2)"
      ],
      "execution_count": null,
      "outputs": []
    },
    {
      "cell_type": "markdown",
      "metadata": {
        "id": "y-n6OCYYXqfH"
      },
      "source": [
        "#### What are we doing here?  Taking advantage of the Python built-in function:\n",
        "\n",
        "``str()``\n",
        "\n",
        "``str(object='')   # more generally, with default argument (any object)``\n",
        "\n",
        "Returns a string containing a nicely printable representation of an object. For strings, this returns the string itself.\n",
        "\n",
        "#### How to get your object to work with it?  Define the following:\n",
        "``object.__str__(self)``\n",
        "\n",
        "Called by the ``str()`` built-in function and by the ``print`` function to compute the “informal” string representation of an object. \n",
        "\n",
        "The return value must be a string object.\n"
      ]
    },
    {
      "cell_type": "markdown",
      "metadata": {
        "id": "HoeBD97mXqfJ"
      },
      "source": [
        "#### A class can have a docstring associated with it\n",
        "\n",
        "Everything in the class definition is an attribute and can be accessed, even the docstring.  The docstring is shared among all instance objects."
      ]
    },
    {
      "cell_type": "code",
      "metadata": {
        "id": "brBPwNKcXqfJ"
      },
      "source": [
        "c.__doc__"
      ],
      "execution_count": null,
      "outputs": []
    },
    {
      "cell_type": "code",
      "metadata": {
        "id": "3EGBu9aRXqfO"
      },
      "source": [
        "c2.__doc__"
      ],
      "execution_count": null,
      "outputs": []
    },
    {
      "cell_type": "code",
      "metadata": {
        "id": "bk29H1YmXqfW"
      },
      "source": [
        "c3.__doc__"
      ],
      "execution_count": null,
      "outputs": []
    },
    {
      "cell_type": "code",
      "metadata": {
        "id": "ciGCbLX6Xqfa"
      },
      "source": [
        "type(c3)"
      ],
      "execution_count": null,
      "outputs": []
    },
    {
      "cell_type": "code",
      "metadata": {
        "id": "ErgoQ0FLXqff"
      },
      "source": [
        "type(c)"
      ],
      "execution_count": null,
      "outputs": []
    },
    {
      "cell_type": "markdown",
      "metadata": {
        "id": "oD43hET7Xqfj"
      },
      "source": [
        "### <center>Key Idea: Building on Basic Python Functionality</center>\n",
        "\n",
        "Python has lots of built-in functions: https://docs.python.org/3/library/functions.html\n",
        "\n",
        "In many cases, it is worth instrumenting the objects that you build so that they can take advantage of this built-in functionality.\n",
        "\n",
        "The following examples provide more insight into how and why to do this."
      ]
    },
    {
      "cell_type": "markdown",
      "metadata": {
        "id": "jqA98to9Xqfl"
      },
      "source": [
        "### <center>the ```__repr__``` method</center>\n",
        "\n",
        "Python has the following built-in function: \n",
        "\n",
        "**``repr(object)``**\n",
        "\n",
        "This function returns a string containing a printable representation of an object. This is the same value yielded by conversions (reverse quotes). It is sometimes useful to be able to access this operation as an ordinary function. \n",
        "\n",
        "For many types, this function makes an attempt to return a string that would yield an object with the same value when passed to ``eval()``, otherwise the representation is a string enclosed in angle brackets that contains the name of the type of the object together with additional information often including the name and address of the object. \n",
        "\n",
        "A class can control what this function returns for its instances by defining a ``__repr__()`` method.\n",
        "\n",
        "**``object.__repr__(self)``**\n",
        "\n",
        "Called by the ``repr()`` built-in function and by string conversions (reverse quotes) to compute the “official” string representation of an object. \n",
        "\n",
        "If at all possible, this should look like a valid Python expression that could be used to recreate an object with the same value (given an appropriate environment). \n",
        "\n",
        "If this is not possible, a string of the form ``<...some useful description...>`` should be returned. The return value must be a string object.\n",
        "\n",
        "If a class defines ``__repr__()`` but not ``__str__()``, then ``__repr__()`` is also used when an “informal” string representation of instances of that class is required.\n",
        "\n",
        "This is typically used for debugging, so it is important that the representation is information-rich and unambiguous."
      ]
    },
    {
      "cell_type": "markdown",
      "metadata": {
        "id": "5hQsnflRXqfo"
      },
      "source": [
        "#### Summary: repr() is a function that produces a string that answers the question: What are you? How do I build you?\n",
        "#### It can be used programmatically in clever ways.  But in most cases you won't have need for it."
      ]
    },
    {
      "cell_type": "code",
      "metadata": {
        "id": "g-SvHbS0Xqfp"
      },
      "source": [
        "class MegaCounter:\n",
        "    \"\"\"A counter with specified start value and step size.\"\"\"\n",
        "    \n",
        "    def __init__(self,count=0,step=1):\n",
        "        self.count = count\n",
        "        self.step = step\n",
        "            \n",
        "    def inc(self):\n",
        "        self.count += self.step\n",
        "        \n",
        "    def dec(self):\n",
        "        self.count -= self.step\n",
        "        \n",
        "    def dist(self,target):\n",
        "        \"\"\"Numerical difference from specified target (assumed an int)\"\"\"\n",
        "        return (target - self.count)\n",
        "        \n",
        "    def __str__(self):\n",
        "        return \"MegaCounter<count:%d,step:%d>\" % (self.count,self.step)  \n",
        "    \n",
        "    def __repr__(self):\n",
        "        return \"MegaCounter(%d,%d)\" % (self.count,self.step) "
      ],
      "execution_count": null,
      "outputs": []
    },
    {
      "cell_type": "code",
      "metadata": {
        "id": "b_pCImVdXqfx"
      },
      "source": [
        "mc = MegaCounter()"
      ],
      "execution_count": null,
      "outputs": []
    },
    {
      "cell_type": "code",
      "metadata": {
        "id": "k6hoCKXjXqf3"
      },
      "source": [
        "print(mc)"
      ],
      "execution_count": null,
      "outputs": []
    },
    {
      "cell_type": "code",
      "metadata": {
        "id": "zCB36kN3Xqf6"
      },
      "source": [
        "mc2 = MegaCounter(10,2)"
      ],
      "execution_count": null,
      "outputs": []
    },
    {
      "cell_type": "code",
      "metadata": {
        "id": "zoe_zJ3mXqf_"
      },
      "source": [
        "print(mc2)"
      ],
      "execution_count": null,
      "outputs": []
    },
    {
      "cell_type": "code",
      "metadata": {
        "id": "HKyP-1rJXqgE"
      },
      "source": [
        "for i in range(3):\n",
        "    mc.inc()\n",
        "    mc2.dec()"
      ],
      "execution_count": null,
      "outputs": []
    },
    {
      "cell_type": "code",
      "metadata": {
        "id": "hMc9CfiGXqgI"
      },
      "source": [
        "print(mc, mc2)"
      ],
      "execution_count": null,
      "outputs": []
    },
    {
      "cell_type": "code",
      "metadata": {
        "id": "srW2jsuoXqgM"
      },
      "source": [
        "mc"
      ],
      "execution_count": null,
      "outputs": []
    },
    {
      "cell_type": "code",
      "metadata": {
        "id": "-Hor02tZXqgQ"
      },
      "source": [
        "mc2"
      ],
      "execution_count": null,
      "outputs": []
    },
    {
      "cell_type": "code",
      "metadata": {
        "id": "BFDM5F-LXqgX"
      },
      "source": [
        "# there's another function called repr() defined above that also returns a string\n",
        "repr(mc)"
      ],
      "execution_count": null,
      "outputs": []
    },
    {
      "cell_type": "code",
      "metadata": {
        "id": "OEnFc4bxXqgc"
      },
      "source": [
        "repr(mc2)"
      ],
      "execution_count": null,
      "outputs": []
    },
    {
      "cell_type": "code",
      "metadata": {
        "id": "2V0HjYFdXqgj"
      },
      "source": [
        "mystring = repr(mc2)\n",
        "print(mystring)"
      ],
      "execution_count": null,
      "outputs": []
    },
    {
      "cell_type": "code",
      "metadata": {
        "id": "jMW-S6MfXqgn"
      },
      "source": [
        "# the idea of repr() is to provide a string that if executed as code\n",
        "# would recreate an equivalent object\n",
        "# the eval() function is used to execute the code\n",
        "mc3 = eval(mystring)"
      ],
      "execution_count": null,
      "outputs": []
    },
    {
      "cell_type": "code",
      "metadata": {
        "id": "MuEmm_Z4Xqgq"
      },
      "source": [
        "mc3"
      ],
      "execution_count": null,
      "outputs": []
    },
    {
      "cell_type": "code",
      "metadata": {
        "id": "MjgMTfq-Xqgv"
      },
      "source": [
        "# at this point mc3 is equivalent to mc2 (in value)\n",
        "# but they are different objects\n",
        "mc3.inc()"
      ],
      "execution_count": null,
      "outputs": []
    },
    {
      "cell_type": "code",
      "metadata": {
        "id": "e_bOdXzDXqg0"
      },
      "source": [
        "mc3"
      ],
      "execution_count": null,
      "outputs": []
    },
    {
      "cell_type": "code",
      "metadata": {
        "id": "wzV2P4StXqg5"
      },
      "source": [
        "mc2"
      ],
      "execution_count": null,
      "outputs": []
    },
    {
      "cell_type": "markdown",
      "metadata": {
        "id": "ak4NXoI2Xqg8"
      },
      "source": [
        "An important feature of these objects is that we can manage them in the same way that we manage other data items, for example, in lists..."
      ]
    },
    {
      "cell_type": "code",
      "metadata": {
        "id": "35pfoRLxXqg8"
      },
      "source": [
        "mylist = []\n",
        "mylist.append(mc)\n",
        "mylist.append(mc2)\n",
        "mylist.append(mc3)"
      ],
      "execution_count": null,
      "outputs": []
    },
    {
      "cell_type": "code",
      "metadata": {
        "id": "yln7VMCDXqhC"
      },
      "source": [
        "print(mylist)"
      ],
      "execution_count": null,
      "outputs": []
    },
    {
      "cell_type": "code",
      "metadata": {
        "id": "879Uv-66XqhM"
      },
      "source": [
        "mc3.inc()\n",
        "print(mylist)"
      ],
      "execution_count": null,
      "outputs": []
    },
    {
      "cell_type": "code",
      "metadata": {
        "id": "r-vt-2JOXqhQ"
      },
      "source": [
        "for item in mylist:\n",
        "    item.inc()"
      ],
      "execution_count": null,
      "outputs": []
    },
    {
      "cell_type": "code",
      "metadata": {
        "id": "akUuEk9qXqhZ"
      },
      "source": [
        "print(mylist)"
      ],
      "execution_count": null,
      "outputs": []
    },
    {
      "cell_type": "code",
      "metadata": {
        "id": "-6AdGhl-Xqhd"
      },
      "source": [
        "# as defined above, the attributes of these object can be accessed and changed\n",
        "mc3.step = 3"
      ],
      "execution_count": null,
      "outputs": []
    },
    {
      "cell_type": "code",
      "metadata": {
        "id": "B6n9KrDqXqhg"
      },
      "source": [
        "print(mylist)"
      ],
      "execution_count": null,
      "outputs": []
    },
    {
      "cell_type": "code",
      "metadata": {
        "id": "c96YnA42Xqhl"
      },
      "source": [
        "mc3.dec()\n",
        "print(mylist)"
      ],
      "execution_count": null,
      "outputs": []
    },
    {
      "cell_type": "code",
      "metadata": {
        "id": "T2FmCFHTXqhp"
      },
      "source": [
        "mylist[1].step=5\n",
        "print(mylist)"
      ],
      "execution_count": null,
      "outputs": []
    },
    {
      "cell_type": "code",
      "metadata": {
        "id": "h3_oeC5mXqhv"
      },
      "source": [
        "for item in mylist:\n",
        "    item.inc()\n",
        "print(mylist)"
      ],
      "execution_count": null,
      "outputs": []
    },
    {
      "cell_type": "code",
      "metadata": {
        "id": "sAtGPPYzXqhz"
      },
      "source": [
        "# we can also define other functions for our objects.\n",
        "# what does the dist() function do?\n",
        "mc.dist(10)"
      ],
      "execution_count": null,
      "outputs": []
    },
    {
      "cell_type": "code",
      "metadata": {
        "id": "Q-eIVrlPXqh2"
      },
      "source": [
        "for item in mylist:\n",
        "    print(\"Distance from %s to 10 is %d\" % (item,item.dist(10)))"
      ],
      "execution_count": null,
      "outputs": []
    },
    {
      "cell_type": "code",
      "metadata": {
        "id": "SFRlLQZ9Xqh6"
      },
      "source": [
        "for item in mylist:\n",
        "    print(\"Distance from %r to 10 is %d\" % (item,item.dist(10)))"
      ],
      "execution_count": null,
      "outputs": []
    },
    {
      "cell_type": "code",
      "metadata": {
        "id": "RdbZVJ4KXqh9"
      },
      "source": [
        "mc1 = MegaCounter()\n",
        "mc2 = MegaCounter()"
      ],
      "execution_count": null,
      "outputs": []
    },
    {
      "cell_type": "code",
      "metadata": {
        "id": "LeA9it63XqiB"
      },
      "source": [
        "print(mc1, mc2)"
      ],
      "execution_count": null,
      "outputs": []
    },
    {
      "cell_type": "code",
      "metadata": {
        "id": "8MPqDBiQXqiG"
      },
      "source": [
        "mc1 == mc2"
      ],
      "execution_count": null,
      "outputs": []
    },
    {
      "cell_type": "markdown",
      "metadata": {
        "id": "pNUgt9gsXqiK"
      },
      "source": [
        "Is this the behavior that you expected?  What is being compared here?  How do we compare objects more broadly?"
      ]
    },
    {
      "cell_type": "markdown",
      "metadata": {
        "id": "w_l7MdveXqiL"
      },
      "source": [
        "### <center>comparing objects</center>\n",
        "\n",
        "Python objects can also be instrumented with the following functions:\n",
        "\n",
        "``object.__lt__(self, other)``\n",
        "\n",
        "``object.__le__(self, other)``\n",
        "\n",
        "``object.__eq__(self, other)``\n",
        "\n",
        "``object.__ne__(self, other)``\n",
        "\n",
        "``object.__gt__(self, other)``\n",
        "\n",
        "``object.__ge__(self, other)``\n",
        "\n",
        "These are the so-called “rich comparison” methods, and are called for comparison operators.  The correspondence between operator symbols and method names is as follows: \n",
        "\n",
        "``x<y`` &nbsp;&nbsp;&nbsp; *calls* &nbsp;&nbsp;&nbsp; ``x.__lt__(y)``\n",
        "\n",
        "``x<=y`` &nbsp; *calls* &nbsp;&nbsp;&nbsp; ``x.__le__(y)``\n",
        "\n",
        "``x==y`` &nbsp; *calls* &nbsp;&nbsp;&nbsp; ``x.__eq__(y)`` \n",
        "\n",
        "``x!=y`` &nbsp; *calls* &nbsp;&nbsp;&nbsp; ``x.__ne__(y)`` \n",
        "\n",
        "``x<>y`` &nbsp; *calls* &nbsp;&nbsp;&nbsp; ``x.__ne__(y)`` \n",
        "\n",
        "``x>y`` &nbsp;&nbsp;&nbsp; *calls* &nbsp;&nbsp;&nbsp; ``x.__gt__(y)``\n",
        "\n",
        "``x>=y`` &nbsp; *calls* &nbsp;&nbsp;&nbsp; ``x.__ge__(y)``\n"
      ]
    },
    {
      "cell_type": "markdown",
      "metadata": {
        "id": "_p2fU0o4XqiM"
      },
      "source": [
        "### <center>the ``__cmp__`` method</center>\n",
        "\n",
        "Python objects can also be instrumented with the following method:\n",
        "\n",
        "``object.__cmp__(self, other)``\n",
        "\n",
        "This method is called by comparison operations if rich comparison (see above) is not defined. \n",
        "\n",
        "The method should return values according to the following rule\n",
        "    * if self < other, return a negative integer \t\t\t\t\n",
        "    * if self == other, return zero\n",
        "    * if self > other, return a positive integer \n",
        "\n",
        "(For a general discussion, see https://www.python.org/dev/peps/pep-0207/)"
      ]
    },
    {
      "cell_type": "markdown",
      "metadata": {
        "id": "Y29Nos9xXqiM"
      },
      "source": [
        "#### No need to stop now... let's consider an even more complicated example."
      ]
    },
    {
      "cell_type": "code",
      "metadata": {
        "id": "wG85EPY5XqiO"
      },
      "source": [
        "class UberCounter:\n",
        "    \"\"\"A counter with specified start value and step size.\"\"\"\n",
        "    \n",
        "    id = 0     # here is a \"static\" id counter for the entire class\n",
        "    \n",
        "    def __init__(self,count=1,step=1):\n",
        "        self.count = count\n",
        "        self.step = step\n",
        "        UberCounter.id += 1           # increment the counter        \n",
        "        self.id = UberCounter.id      # get the next id\n",
        "\n",
        "            \n",
        "    def inc(self):\n",
        "        self.count += self.step\n",
        "        \n",
        "    def dec(self):\n",
        "        self.count -= self.step\n",
        "        \n",
        "    def dist(self,target):\n",
        "        \"\"\"Numerical difference from specified target (assumed an int)\"\"\"\n",
        "        return abs(target - self.count)\n",
        "        \n",
        "    def __str__(self):\n",
        "        return \"UberCounter%d<count:%d,step:%d>\" % (self.id,self.count,self.step)  \n",
        "    \n",
        "    def __repr__(self):\n",
        "        return \"UberCounter(%d,%d)\" % (self.count,self.step)  \n",
        "        \n",
        "    def __lt__(self, other):\n",
        "        return self.count < other.count\n",
        "       \n",
        "    def __le__(self, other):\n",
        "        return self.count <= other.count\n",
        "        \n",
        "    def __eq__(self, other):\n",
        "        return self.count == other.count\n",
        "        \n",
        "    def __ne__(self, other):\n",
        "        return self.count != other.count\n",
        "        \n",
        "    def __gt__(self, other):\n",
        "        return self.count > other.count\n",
        "        \n",
        "    def __ge__(self, other):\n",
        "        return self.count >= other.count\n",
        "      "
      ],
      "execution_count": null,
      "outputs": []
    },
    {
      "cell_type": "code",
      "metadata": {
        "id": "qxEAjV6sXqib"
      },
      "source": [
        "mylist = []\n",
        "for i in range(5):\n",
        "    mylist.append(UberCounter())"
      ],
      "execution_count": null,
      "outputs": []
    },
    {
      "cell_type": "code",
      "metadata": {
        "id": "hvb6_1ygXqig"
      },
      "source": [
        "mylist"
      ],
      "execution_count": null,
      "outputs": []
    },
    {
      "cell_type": "code",
      "metadata": {
        "id": "8XP39aM6Xqip"
      },
      "source": [
        "for c in mylist:\n",
        "    print(c)"
      ],
      "execution_count": null,
      "outputs": []
    },
    {
      "cell_type": "code",
      "metadata": {
        "id": "X8okhKj0Xqir"
      },
      "source": [
        "UberCounter.id"
      ],
      "execution_count": null,
      "outputs": []
    },
    {
      "cell_type": "markdown",
      "metadata": {
        "id": "ZtBgmn15Xqiu"
      },
      "source": [
        "#### Note the two lists above displayed differently.  Why?"
      ]
    },
    {
      "cell_type": "code",
      "metadata": {
        "id": "iSBEjOcHXqiv"
      },
      "source": [
        "mylist[0]         # text comes from __repr__"
      ],
      "execution_count": null,
      "outputs": []
    },
    {
      "cell_type": "code",
      "metadata": {
        "id": "3bpgQ3G-Xqiy"
      },
      "source": [
        "print(mylist[0])  # text comes from __str__"
      ],
      "execution_count": null,
      "outputs": []
    },
    {
      "cell_type": "code",
      "metadata": {
        "id": "NMz5MwtKXqi1"
      },
      "source": [
        "import numpy as np\n",
        "import pandas as pd"
      ],
      "execution_count": null,
      "outputs": []
    },
    {
      "cell_type": "code",
      "metadata": {
        "id": "__kSGo7-Xqi4"
      },
      "source": [
        "a = np.array([1,2,3,4])\n",
        "b = np.array([1,2,3,4])\n",
        "UberCounter(a,b)"
      ],
      "execution_count": null,
      "outputs": []
    },
    {
      "cell_type": "code",
      "metadata": {
        "id": "qAu2HdAuXqi6"
      },
      "source": [
        "df = pd.concat([a,b] ,axis=1)"
      ],
      "execution_count": null,
      "outputs": []
    },
    {
      "cell_type": "markdown",
      "metadata": {
        "id": "2Me8pOlQXqjB"
      },
      "source": [
        "#### What's up with the numbers 1, 2, 3... embedded into the text generated by __str__ above?"
      ]
    },
    {
      "cell_type": "markdown",
      "metadata": {
        "id": "mLIENzYiXqjC"
      },
      "source": [
        "### <center>Instance Variables vs. Class Variables</center>\n",
        "\n",
        "* Python classes and instances of classes *each have their own distinct namespaces*.\n",
        "\n",
        "\n",
        "  * The **instance namespace**\n",
        "     * is unique for each instance of the class\n",
        "     \n",
        "     * is accessed internally within the class definition as self.[attribute]\n",
        "  \n",
        "  \n",
        "  * The **class namespace** \n",
        "     * is shared among all instances of that class (kind of like a \"global\" within the class)\n",
        "     \n",
        "     * is accessed internally within the class definition as ClassName.[attribute]\n",
        "\n",
        "* When you try to access an attribute from an instance of a class, it first looks at its instance namespace. If it finds the attribute, it returns the associated value. If not, it then looks in the class namespace and returns the attribute (if it’s present, throwing an error otherwise)."
      ]
    },
    {
      "cell_type": "markdown",
      "metadata": {
        "id": "QKgcd4cfXqjD"
      },
      "source": [
        "#### In the definition of ``UberCounter`` we are using the class variable ``UberCounter.id`` as a type of \"global\" variable to generate unique IDs for each instance of the class."
      ]
    },
    {
      "cell_type": "code",
      "metadata": {
        "id": "dW3Hh_E4XqjD"
      },
      "source": [
        "UberCounter.id"
      ],
      "execution_count": null,
      "outputs": []
    },
    {
      "cell_type": "markdown",
      "metadata": {
        "id": "VOId-wQ5XqjG"
      },
      "source": [
        "#### Every time we create a new instance, the id is incremented."
      ]
    },
    {
      "cell_type": "code",
      "metadata": {
        "id": "6nSxE_aVXqjH"
      },
      "source": [
        "another_one = UberCounter()"
      ],
      "execution_count": null,
      "outputs": []
    },
    {
      "cell_type": "code",
      "metadata": {
        "id": "UX3SPTcoXqjK"
      },
      "source": [
        "UberCounter.id"
      ],
      "execution_count": null,
      "outputs": []
    },
    {
      "cell_type": "code",
      "metadata": {
        "id": "ZMLqN6LEXqjN"
      },
      "source": [
        "print(another_one)"
      ],
      "execution_count": null,
      "outputs": []
    },
    {
      "cell_type": "markdown",
      "metadata": {
        "id": "8Tr15CcbXqjP"
      },
      "source": [
        "#### Okay, let's compare some objects.  Default behavior (comparing memory addresses) has been overridden!"
      ]
    },
    {
      "cell_type": "code",
      "metadata": {
        "id": "miA5KsJOXqjQ"
      },
      "source": [
        "mylist[0] == mylist[1]"
      ],
      "execution_count": null,
      "outputs": []
    },
    {
      "cell_type": "code",
      "metadata": {
        "id": "JNEO502-XqjS"
      },
      "source": [
        "mylist[1] < mylist[2]"
      ],
      "execution_count": null,
      "outputs": []
    },
    {
      "cell_type": "code",
      "metadata": {
        "id": "s_8oB8wWXqjd"
      },
      "source": [
        "for i in range(len(mylist)):\n",
        "    c = mylist[i]\n",
        "    if i % 2 == 0:\n",
        "        for j in range(i):\n",
        "            c.inc()\n",
        "    else:\n",
        "        for j in range(i):\n",
        "            c.dec()"
      ],
      "execution_count": null,
      "outputs": []
    },
    {
      "cell_type": "code",
      "metadata": {
        "id": "69ZVtotFXqjf"
      },
      "source": [
        "for c in mylist:\n",
        "    print(c)"
      ],
      "execution_count": null,
      "outputs": []
    },
    {
      "cell_type": "code",
      "metadata": {
        "id": "64TCZe9ZXqjj"
      },
      "source": [
        "mylist[0] == mylist[1]"
      ],
      "execution_count": null,
      "outputs": []
    },
    {
      "cell_type": "code",
      "metadata": {
        "id": "TOcZslILXqjn"
      },
      "source": [
        "mylist[1] < mylist[2]"
      ],
      "execution_count": null,
      "outputs": []
    },
    {
      "cell_type": "code",
      "metadata": {
        "id": "Yg3l20GKXqjq"
      },
      "source": [
        "sorted(mylist)"
      ],
      "execution_count": null,
      "outputs": []
    },
    {
      "cell_type": "code",
      "metadata": {
        "id": "_loyIQPYXqjt"
      },
      "source": [
        "newlist = sorted(mylist)"
      ],
      "execution_count": null,
      "outputs": []
    },
    {
      "cell_type": "code",
      "metadata": {
        "id": "8nTDDaXXXqjx"
      },
      "source": [
        "for c in newlist:\n",
        "    print(c, 'dist to 0 is:', c.dist(0))"
      ],
      "execution_count": null,
      "outputs": []
    },
    {
      "cell_type": "code",
      "metadata": {
        "id": "bgkgrMf5Xqj0"
      },
      "source": [
        "def getVal(counter):\n",
        "    return counter.dist(0)"
      ],
      "execution_count": null,
      "outputs": []
    },
    {
      "cell_type": "code",
      "metadata": {
        "id": "xGIZEDe_Xqj2"
      },
      "source": [
        "newlist2 = sorted(mylist, key=getVal)"
      ],
      "execution_count": null,
      "outputs": []
    },
    {
      "cell_type": "code",
      "metadata": {
        "id": "Vz2aRWZpXqj6"
      },
      "source": [
        "for c in newlist2:\n",
        "    print(c)"
      ],
      "execution_count": null,
      "outputs": []
    },
    {
      "cell_type": "markdown",
      "metadata": {
        "id": "PnuSz_FYXqj-"
      },
      "source": [
        "### <center>But wait!  It gets even better...</center>\n",
        "\n",
        "### <center>You can also define your own customized arithmetic operations for objects!</center>\n",
        "\n",
        "![object_ops.png](attachment:object_ops.png)\n",
        "\n",
        "And lots more!  See https://docs.python.org/3/reference/datamodel.html for details."
      ]
    },
    {
      "cell_type": "markdown",
      "metadata": {
        "id": "11kI9Eb7Xqj-"
      },
      "source": [
        "### <center>built-in attributes</center>\n",
        "\n",
        "Every Python class keeps following built-in attributes and they can be accessed using dot operator like any other attribute:\n",
        "\n",
        "``__doc__``  \t\n",
        "&nbsp; &nbsp; &nbsp; Class documentation string or ``None`` if undefined.\n",
        "\n",
        "``__name__`` \t\n",
        "&nbsp; &nbsp; &nbsp; Class name.\n",
        "\n",
        "``__module__``  \t\n",
        "&nbsp; &nbsp; &nbsp; Module name in which the class is defined. This attribute is \"``__main__``\" in interactive mode.\n",
        "\n",
        "``__dict__``  \t\n",
        "&nbsp; &nbsp; &nbsp; Dictionary containing the class's namespace."
      ]
    },
    {
      "cell_type": "code",
      "metadata": {
        "id": "4wkKF6wmXqj_"
      },
      "source": [
        "item1 = UberCounter()\n",
        "item2 = UberCounter()"
      ],
      "execution_count": null,
      "outputs": []
    },
    {
      "cell_type": "code",
      "metadata": {
        "id": "oKvsSBn_XqkC"
      },
      "source": [
        "# as discussed before...\n",
        "# all of the attributes of an object are contained in a special dictionary named __dict__\n",
        "item1.__dict__"
      ],
      "execution_count": null,
      "outputs": []
    },
    {
      "cell_type": "code",
      "metadata": {
        "id": "xL_6NgDjXqkE"
      },
      "source": [
        "item2.__dict__"
      ],
      "execution_count": null,
      "outputs": []
    },
    {
      "cell_type": "code",
      "metadata": {
        "id": "B4q0tlHAXqkH"
      },
      "source": [
        "# dir() gives you the items in the namespace (the keys only for the dict)\n",
        "dir(item1)"
      ],
      "execution_count": null,
      "outputs": []
    },
    {
      "cell_type": "code",
      "metadata": {
        "id": "so1P-BxgXqkN"
      },
      "source": [
        "# for example, __doc__ is the docstring of the class\n",
        "item1.__doc__"
      ],
      "execution_count": null,
      "outputs": []
    },
    {
      "cell_type": "code",
      "metadata": {
        "id": "Wfs7NECaXqkP"
      },
      "source": [
        "# the storage mechanism is literally a dictionary...\n",
        "item1.__dict__['id']"
      ],
      "execution_count": null,
      "outputs": []
    },
    {
      "cell_type": "code",
      "metadata": {
        "id": "9Xtv8FlrXqkS"
      },
      "source": [
        "item2.__dict__['id']"
      ],
      "execution_count": null,
      "outputs": []
    },
    {
      "cell_type": "code",
      "metadata": {
        "id": "0FJ4axuaXqkX"
      },
      "source": [
        "# but that's not the way you should use it.  As discussed before, \n",
        "# the preferred way of getting attributes is through the getattr() function\n",
        "getattr(item1,'count')"
      ],
      "execution_count": null,
      "outputs": []
    },
    {
      "cell_type": "code",
      "metadata": {
        "id": "dS3eBUIvXqka"
      },
      "source": [
        "item1.count"
      ],
      "execution_count": null,
      "outputs": []
    },
    {
      "cell_type": "code",
      "metadata": {
        "id": "CDxW2YiEXqkd"
      },
      "source": [
        "getattr(item1,'step')"
      ],
      "execution_count": null,
      "outputs": []
    },
    {
      "cell_type": "code",
      "metadata": {
        "id": "qmnBypqJXqkg"
      },
      "source": [
        "getattr(item1,'id')"
      ],
      "execution_count": null,
      "outputs": []
    },
    {
      "cell_type": "markdown",
      "metadata": {
        "id": "lS_dCZ_WXqkk"
      },
      "source": [
        "All of the discussion related to ``getattr()``, ``setattr()``, ``hasattr()``, and ``delattr()`` apply here as well.."
      ]
    },
    {
      "cell_type": "code",
      "metadata": {
        "id": "ulBGmyi4Xqkl"
      },
      "source": [
        "# trying to get an attribute that doesn't exist causes an Exception\n",
        "getattr(item1,'something_else')"
      ],
      "execution_count": null,
      "outputs": []
    },
    {
      "cell_type": "code",
      "metadata": {
        "id": "yL-Efv2SXqkr"
      },
      "source": [
        "# you can check for the existence of an attribute with hasattr()\n",
        "hasattr(item1,'something_else')"
      ],
      "execution_count": null,
      "outputs": []
    },
    {
      "cell_type": "markdown",
      "metadata": {
        "id": "yyZjTDaXXqku"
      },
      "source": [
        "### <center>Destroying Objects (Garbage Collection)</center>\n",
        "\n",
        "* Python deletes unneeded objects (built-in types or class instances) automatically to free memory space. The process by which Python periodically reclaims blocks of memory that no longer are in use is termed **garbage collection**.\n",
        "\n",
        "\n",
        "* Python's garbage collector runs during program execution and is triggered when an object's **reference count** reaches zero. An object's reference count changes as the number of aliases that point to it changes.\n",
        "\n",
        "\n",
        "* An object's reference count increases when it's assigned a new name or placed in a container (list, tuple or dictionary). The object's reference count decreases when it's deleted with del, its reference is reassigned, or its reference goes out of scope. When an object's reference count reaches zero, Python collects it automatically.\n",
        "\n",
        "\n",
        "* You normally won't notice when the garbage collector destroys an orphaned instance and reclaims its space. But a class can implement the special method ``__del__()``, called a destructor, that is invoked when the instance is about to be destroyed. This method might be used to clean up any nonmemory resources used by an instance.\n"
      ]
    },
    {
      "cell_type": "markdown",
      "metadata": {
        "id": "E5oh6eu0Xqkv"
      },
      "source": [
        "## <center>Part 2, Summary</center>\n",
        "\n",
        "## Thus, there are several ways of thinking about objects...\n",
        "<ol>\n",
        "<li> as customized data containers</li>\n",
        "<li> as specialized tools or helpers that can be used to assist with specific tasks</li>\n",
        "<li> as a separate namespace for managing attributes</li>\n",
        "</ol>\n",
        "\n",
        "Fortunately, knowing all of the details here is NOT required in order to use objects effectively.\n",
        "\n",
        "However, it can be helpful to know how python makes use of dictionaries to manage the namespace of objects.  And it's cool."
      ]
    },
    {
      "cell_type": "markdown",
      "metadata": {
        "id": "v4SIhs1OXqkw"
      },
      "source": [
        "## We learned a LOT about the internal working of objects in Python.\n",
        "\n",
        "* **instance methods**\n",
        "  * define functions (behaviors) for the object\n",
        "  * require ``self`` as the first argument (passed automatically)\n",
        "  \n",
        "  \n",
        "* the ``__init__`` method: **how to create (instantiate) an object**\n",
        "* the ``__str__`` method: **how to represent an object as a string (for printing)**\n",
        "* the ``__repr__`` method: **how to represent an object as a string (to create it)**\n",
        "* methods for comparing objects: allows for things like sorting!\n",
        "* and lots of other built-in functions that are available for use...\n",
        "\n",
        "**Key Idea:** by implementing these methods in your objects (as appropriate), you can take advantage of lots of built-in functionality in Python!\n",
        "\n",
        "* the **docstring** is shared by all instances of the class, stored as ``__doc__`` attribute\n",
        "\n",
        "\n",
        "* objects have their own **namespace** that is maintained in the ``__dict__`` attribute"
      ]
    }
  ]
}