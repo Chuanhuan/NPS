{
 "cells": [
  {
   "cell_type": "markdown",
   "metadata": {},
   "source": [
    "<h1><center>Data Analytics</h1>\n",
    "<h2><center>Homework 1</h2>\n",
    "<h3><center>Name: 李權桓   &emsp;   ID:10546004</h3>"
   ]
  },
  {
   "cell_type": "markdown",
   "metadata": {},
   "source": [
    "### q1\n",
    "Let $p=\\frac{1}{4}$ as students  correctly answer multiple-choice questions.\n",
    "So, \n",
    "$$\n",
    "P(X=4)+P(X=5)=\\begin{pmatrix}  \n",
    "5 \\\\\n",
    "4\n",
    "\\end{pmatrix}\n",
    "p^{4}(1-p)^1 + \n",
    "\\begin{pmatrix}  \n",
    "5 \\\\\n",
    "5\n",
    "\\end{pmatrix}\n",
    "p^{5}(1-p)^0 $$"
   ]
  },
  {
   "cell_type": "code",
   "execution_count": 122,
   "metadata": {},
   "outputs": [
    {
     "data": {
      "text/plain": [
       "0.015625"
      ]
     },
     "execution_count": 122,
     "metadata": {},
     "output_type": "execute_result"
    }
   ],
   "source": [
    "#q1 \n",
    "p = .25\n",
    "5*p**4*(1-p) + p**5"
   ]
  },
  {
   "cell_type": "markdown",
   "metadata": {},
   "source": [
    "### q2\n",
    "- One team finish this game need to win at least 4 matches which means $n \\in \\lbrace 4,5,6,7 \\rbrace$.  \n",
    "If one needs to win 4 games, which means probability is $p^4$ in order to get champion, each game is independent.\n",
    "If one needs to win 5 games, which means probability is $\\begin{pmatrix} 4 \\\\ 1 \\end{pmatrix} p^3q^1 p$ It needs to multiply $p$ because last game need to win by one team.\n",
    "- In general for expected games they play, \n",
    "$$ \n",
    "(4p^4 +\n",
    "5\\begin{pmatrix} 4 \\\\ 1 \\end{pmatrix} p^4q^1 +\n",
    "6\\begin{pmatrix} 5 \\\\ 2 \\end{pmatrix} p^4q^2 +\n",
    "7\\begin{pmatrix} 6 \\\\ 3 \\end{pmatrix} p^4q^3 ) +\n",
    "\\\\\n",
    "(4q^4 +\n",
    "5\\begin{pmatrix} 4 \\\\ 1 \\end{pmatrix} q^4p^1 +\n",
    "6\\begin{pmatrix} 5 \\\\ 2 \\end{pmatrix} q^4p^2 +\n",
    "7\\begin{pmatrix} 6 \\\\ 3 \\end{pmatrix} q^4p^3 ) \n",
    "$$ \n",
    "\n",
    "- Both side win and lose is $p=.5$. \n",
    "- Once we know 5 games, the 6 and 7 games same fashion. However this only for one team, we need to multiply to 2 teams in order to get expected values. \n",
    "$$ \n",
    "(\n",
    "4p^4 +\n",
    "5\\begin{pmatrix} 4 \\\\ 1 \\end{pmatrix} p^4q^1 +\n",
    "6\\begin{pmatrix} 5 \\\\ 2 \\end{pmatrix} p^4q^2 +\n",
    "7\\begin{pmatrix} 6 \\\\ 3 \\end{pmatrix} p^4q^3 \n",
    ") \\cdot 2 = 5.8125\n",
    "$$ \n"
   ]
  },
  {
   "cell_type": "code",
   "execution_count": 123,
   "metadata": {},
   "outputs": [
    {
     "data": {
      "text/plain": [
       "5.8125"
      ]
     },
     "execution_count": 123,
     "metadata": {},
     "output_type": "execute_result"
    }
   ],
   "source": [
    "# q2\n",
    "p = .5\n",
    "q = 1-p\n",
    "2*( 4* p**4 + 5*4*p**4*q + 6*5*2*p**4*q**2 + 7*5*4*p**4*q**3 )"
   ]
  },
  {
   "cell_type": "markdown",
   "metadata": {},
   "source": [
    "### q3\n",
    "The fountain show starts every 80 mins and I can wait 20 mins for the show. So, the time will be uniform distribution.\n",
    "The probability is,\n",
    "$$P=\\frac{20}{80}=\\frac{1}{4}$$"
   ]
  },
  {
   "cell_type": "markdown",
   "metadata": {},
   "source": [
    "### q4a\n",
    "Mary enters at 8h10 and John still there means clerk 1 have been processing John's work at least 10 mins\n",
    "$$P(x>10) = 1 - (1- e^ {-10 \\mu_1} ) = e^ {-10 \\mu_1} $$\n",
    "\n",
    "### q4b\n",
    "According to Memoryless property, John finish time doesn't take history into account. Only present matters. So,\n",
    "\\begin{aligned}\n",
    "P(x_1 > x_2) \n",
    "&= \\int^\\infty_0 P\\lbrace x_1 > x_2 | x_1 =x \\rbrace \\lambda_1 e^{-\\lambda_1 x} \\\\\n",
    "&= \\int^\\infty_0 P\\lbrace x > x_2 \\rbrace \\lambda_1 e^{-\\lambda_1 x} \\\\\n",
    "&= \\int^\\infty_0 (1- e^{-\\lambda_2 x}) \\lambda_1 e^{-\\lambda_1 x} \\\\\n",
    "&= 1- \\frac{\\lambda_1}{\\lambda_1 + \\lambda_2} \\\\\n",
    "&= \\frac{\\mu_2}{\\mu_1+\\mu_2}\n",
    "\\end{aligned}"
   ]
  },
  {
   "cell_type": "markdown",
   "metadata": {},
   "source": [
    "### q5\n",
    "The train delay 1st row of matrix is delay min and 2 row is probability,\n",
    "$$\n",
    "\\begin{vmatrix}\n",
    "4 & 6 & 8 & 10 & 12 \\\\\n",
    "\\frac{1}{16} & \\frac{1}{8} & \\frac{1}{2} & \\frac{1}{4} & \\frac{1}{16}\n",
    "\\end{vmatrix}\n",
    "$$\n",
    "\n",
    "The bus delay is Normal Distribution which means the delay probability should take train delay as influence factor. \n",
    "It will need to consider if bus arrive earier than train probability and bus arrive after 8h20. \n",
    "$$Probability \\; of \\; train \\;  arrival * (Probability \\; of \\; bus \\; arrive \\; before \\; train + \n",
    "\\\\ Probability \\; of \\; bus \\; arrive \\; after \\; 8h20)$$\n",
    " \n",
    "Note: $Probability \\; of \\; bus \\; arrive \\; after \\; 8h20) = .5$ becasue is Normal distribution $\\mu$\n"
   ]
  },
  {
   "cell_type": "code",
   "execution_count": 124,
   "metadata": {},
   "outputs": [
    {
     "data": {
      "text/plain": [
       "0.7385057620862279"
      ]
     },
     "execution_count": 124,
     "metadata": {},
     "output_type": "execute_result"
    }
   ],
   "source": [
    "### q5\n",
    "from scipy.stats import norm\n",
    "(norm.cdf(14 , 20 , 2) + .5 ) * 1/16 + (norm.cdf(16 , 20 , 2) + .5 ) * 1/8 + \\\n",
    "    (norm.cdf(18 , 20 , 2) + .5 ) * 1/2 + (norm.cdf(20 , 20 , 2) + .5 ) * 1/4+  1/16\n"
   ]
  },
  {
   "cell_type": "markdown",
   "metadata": {},
   "source": [
    "### q6\n",
    "The Probability of cancer $P(C)=\\frac{1}{100}$, the probability dectect positive given somebody have cancer $P(D|C)=\\frac{99}{100}$\n",
    "According to Bayes' Theorem,\n",
    "$$\n",
    "\\begin{aligned}\n",
    "P(C|D) &= \\frac{P(C \\cap D)}{P(D)}\n",
    "&= \\frac{P(D|C)P(C)}{P(D|C)P(C) + P(D|C^\\prime)P(C^\\prime)}\n",
    "\\end{aligned}\n",
    "$$\n"
   ]
  },
  {
   "cell_type": "code",
   "execution_count": 125,
   "metadata": {},
   "outputs": [
    {
     "name": "stdout",
     "output_type": "stream",
     "text": [
      "Probability of John really have cancer given x-ray test positive is  0.4999999999999997\n"
     ]
    }
   ],
   "source": [
    "# q6a\n",
    "\n",
    "pc=.01\n",
    "pdc=.99\n",
    "ans1 = (pdc*pc)/(pdc*pc+(1-pdc)*(1-pc))\n",
    "print('Probability of John really have cancer given x-ray test positive is ', ans1)"
   ]
  },
  {
   "cell_type": "code",
   "execution_count": 126,
   "metadata": {},
   "outputs": [
    {
     "name": "stdout",
     "output_type": "stream",
     "text": [
      "Probability of John really have cancer given MRI test positive is 0.90984\n"
     ]
    }
   ],
   "source": [
    "# q6b\n",
    "pc=.01\n",
    "pdc=.999\n",
    "ans2 = (pdc*pc)/(pdc*pc+(1-pdc)*(1-pc))\n",
    "print('Probability of John really have cancer given MRI test positive is {:.5f}'.format(ans2))"
   ]
  },
  {
   "cell_type": "code",
   "execution_count": 127,
   "metadata": {},
   "outputs": [
    {
     "name": "stdout",
     "output_type": "stream",
     "text": [
      "Probability of John really have cancer given x-ray and MRI test positive is 0.999\n"
     ]
    }
   ],
   "source": [
    "\n",
    "pc=ans1\n",
    "pdc=.999\n",
    "ans3 = (pdc*pc)/(pdc*pc+(1-pdc)*(1-pc))\n",
    "print('Probability of John really have cancer given x-ray and MRI test positive is {:.3f}'.format(ans3))"
   ]
  },
  {
   "cell_type": "markdown",
   "metadata": {},
   "source": [
    "### q7\n",
    "CLT:\n",
    "$$\n",
    "Z = \\frac{\\bar{x} - \\mu }{ \\frac{\\sigma}{\\sqrt{n} } }\n",
    "$$\n",
    "\n",
    "a) less than 10 mins: $Z = \\frac{10 - 8.5 }{ \\frac{3.5}{\\sqrt{49} } }$"
   ]
  },
  {
   "cell_type": "code",
   "execution_count": 128,
   "metadata": {},
   "outputs": [
    {
     "data": {
      "text/plain": [
       "0.9986501019683699"
      ]
     },
     "execution_count": 128,
     "metadata": {},
     "output_type": "execute_result"
    }
   ],
   "source": [
    "# q7a\n",
    "import numpy as np\n",
    "from scipy.stats import norm\n",
    "mu = 8.5\n",
    "sigma = 3.5\n",
    "n=49\n",
    "z = (10- mu)/ (sigma /np.sqrt(n))\n",
    "norm.cdf(z)"
   ]
  },
  {
   "cell_type": "code",
   "execution_count": 129,
   "metadata": {},
   "outputs": [
    {
     "data": {
      "text/plain": [
       "0.9973002039367398"
      ]
     },
     "execution_count": 129,
     "metadata": {},
     "output_type": "execute_result"
    }
   ],
   "source": [
    "# q7b\n",
    "\n",
    "z1 = (10- mu)/ (sigma /np.sqrt(n))\n",
    "z2 = (7- mu)/ (sigma /np.sqrt(n))\n",
    "norm.cdf(z1) - norm.cdf(z2)"
   ]
  },
  {
   "cell_type": "code",
   "execution_count": 130,
   "metadata": {},
   "outputs": [
    {
     "data": {
      "text/plain": [
       "0.022750131948179195"
      ]
     },
     "execution_count": 130,
     "metadata": {},
     "output_type": "execute_result"
    }
   ],
   "source": [
    "#q7c\n",
    "\n",
    "z = (7.5- mu)/ (sigma /np.sqrt(n))\n",
    "norm.cdf(z)"
   ]
  },
  {
   "cell_type": "markdown",
   "metadata": {},
   "source": [
    "### q8\n",
    "The test statistic value:\n",
    "$$\n",
    "Z = \\frac{\\hat{p} - p_0 }{ \\sqrt{\\frac{p (1-p)}{n} } }\n",
    "$$"
   ]
  },
  {
   "cell_type": "code",
   "execution_count": 131,
   "metadata": {},
   "outputs": [
    {
     "data": {
      "text/plain": [
       "0.9544997361036416"
      ]
     },
     "execution_count": 131,
     "metadata": {},
     "output_type": "execute_result"
    }
   ],
   "source": [
    "# q8\n",
    "import numpy as np\n",
    "from scipy.stats import norm\n",
    "p = .4\n",
    "n= 600\n",
    "r1 = 216\n",
    "r2 = 264\n",
    "z1 = (r1/n- p)/ (np.sqrt(p*(1-p)/n))\n",
    "z2 = (r2/n- p)/ (np.sqrt(p*(1-p)/n))\n",
    "norm.cdf(z2) - norm.cdf(z1)"
   ]
  },
  {
   "cell_type": "markdown",
   "metadata": {},
   "source": [
    "### q9"
   ]
  },
  {
   "cell_type": "code",
   "execution_count": 132,
   "metadata": {},
   "outputs": [
    {
     "name": "stdout",
     "output_type": "stream",
     "text": [
      "0    38.144709\n",
      "1    26.156372\n",
      "2     8.594237\n",
      "3     1.800697\n",
      "dtype: float64\n",
      "0.027777777777777776\n"
     ]
    },
    {
     "name": "stderr",
     "output_type": "stream",
     "text": [
      "/tmp/ipykernel_26361/425235944.py:12: DeprecationWarning: The default dtype for empty Series will be 'object' instead of 'float64' in a future version. Specify a dtype explicitly to silence this warning.\n",
      "  exp = pd.Series()\n"
     ]
    }
   ],
   "source": [
    " # q9\n",
    "from scipy.stats import binom\n",
    "import pandas as pd\n",
    "\n",
    "obs = pd.Series([39 , 23, 12, 1])\n",
    "n = 24\n",
    "ss = 75\n",
    "\n",
    "xbar = (obs[0]*0 + obs[1]*1 + obs[2]*2 + obs[3]*3)/ss\n",
    "phat = xbar/n\n",
    "\n",
    "exp = pd.Series()\n",
    "for i in range(0,4):\n",
    "    exp.at[i] = ss * binom.pmf(i , n , phat)\n",
    "print(exp) \n",
    "\n",
    "print(phat)"
   ]
  },
  {
   "cell_type": "code",
   "execution_count": 133,
   "metadata": {},
   "outputs": [
    {
     "name": "stdout",
     "output_type": "stream",
     "text": [
      "when i is  0 tmp =  0.019177553372751635\n",
      "when i is  1 tmp =  0.3808893949356095\n",
      "when i is  2 tmp =  1.3496515570903822\n",
      "when i is  3 tmp =  0.3560376400292312\n",
      "2.1057561454279745\n"
     ]
    }
   ],
   "source": [
    "chi = 0\n",
    "for i in range(0,4):\n",
    "    tmp = (obs[i]-exp[i])**2 / exp[i]\n",
    "    print('when i is ', i , 'tmp = ', tmp)\n",
    "    chi = chi + tmp \n",
    "print(chi)"
   ]
  },
  {
   "cell_type": "code",
   "execution_count": 134,
   "metadata": {},
   "outputs": [
    {
     "name": "stdout",
     "output_type": "stream",
     "text": [
      "Q9: The test statistic value= 5.991464547107979\n",
      "Do not reject H_0\n"
     ]
    }
   ],
   "source": [
    "from scipy.stats import chi2\n",
    "val = chi2.ppf(.95,2)\n",
    "print('Q9: The test statistic value=', val)\n",
    "if chi < val:\n",
    "     print( 'Do not reject H_0')\n",
    "else:\n",
    "    print('Reject H_0')"
   ]
  },
  {
   "cell_type": "markdown",
   "metadata": {},
   "source": [
    "### q10"
   ]
  },
  {
   "cell_type": "code",
   "execution_count": 135,
   "metadata": {},
   "outputs": [
    {
     "data": {
      "text/plain": [
       "array([[15.75, 13.5 , 15.75],\n",
       "       [ 8.75,  7.5 ,  8.75],\n",
       "       [10.5 ,  9.  , 10.5 ]])"
      ]
     },
     "execution_count": 135,
     "metadata": {},
     "output_type": "execute_result"
    }
   ],
   "source": [
    "# q10\n",
    "import numpy as np\n",
    "a = np.array([[24, 11, 10], [7, 13, 5], [4, 6, 20]]) # observers\n",
    "obs = a.reshape((3,3))\n",
    "a_prob = a/100\n",
    "r_sum = a_prob.sum(axis=1)\n",
    "c_sum = a_prob.sum(axis=0)\n",
    "\n",
    "r_mat = r_sum.repeat(3,axis=0).reshape((3,3))\n",
    "c_mat = c_sum.repeat(3,axis=0).reshape((3,3)).T # do transpose\n",
    "exp = r_mat * c_mat *100 # expeted matrix\n",
    "exp"
   ]
  },
  {
   "cell_type": "code",
   "execution_count": 136,
   "metadata": {},
   "outputs": [
    {
     "data": {
      "text/plain": [
       "26.493121693121697"
      ]
     },
     "execution_count": 136,
     "metadata": {},
     "output_type": "execute_result"
    }
   ],
   "source": [
    "chi = 0\n",
    "for i in range(c_mat.shape[0]):\n",
    "    for j in range(c_mat.shape[1]):\n",
    "        tmp = (obs[i][j] - exp[i][j])**2 / exp[i][j]\n",
    "        chi = chi + tmp\n",
    "chi"
   ]
  },
  {
   "cell_type": "code",
   "execution_count": 137,
   "metadata": {},
   "outputs": [
    {
     "name": "stdout",
     "output_type": "stream",
     "text": [
      "Q10: The test statistic value= 13.276704135987622\n",
      "Reject H_0\n"
     ]
    }
   ],
   "source": [
    "\n",
    "from scipy.stats import chi2\n",
    "val = chi2.ppf(.99,4)\n",
    "print('Q10: The test statistic value=', val)\n",
    "if chi < val:\n",
    "     print( 'Do not reject H_0')\n",
    "else:\n",
    "    print('Reject H_0')"
   ]
  },
  {
   "cell_type": "markdown",
   "metadata": {},
   "source": [
    "### q11"
   ]
  },
  {
   "cell_type": "code",
   "execution_count": 138,
   "metadata": {},
   "outputs": [
    {
     "data": {
      "image/png": "[encoded data removed]",
      "text/plain": [
       "<Figure size 432x288 with 4 Axes>"
      ]
     },
     "metadata": {
      "needs_background": "light"
     },
     "output_type": "display_data"
    }
   ],
   "source": [
    "import random\n",
    "import numpy as np\n",
    "import pandas as pd\n",
    "import matplotlib.pyplot as plt\n",
    "dices = np.array([2,3,4,5])\n",
    "data = []\n",
    "\n",
    "# this might something wrong\n",
    "for i in dices:\n",
    "    result = []\n",
    "    for j in range(10000):\n",
    "        tmp = random.choices(range(1,7),k = i)\n",
    "        tmp = np.array(tmp).sum()/i # average\n",
    "        result.append(tmp)\n",
    "    data.append(result)\n",
    "\n",
    "\n",
    "fig, ax = plt.subplots(2, 2)\n",
    "\n",
    "for i in range(dices.size):\n",
    "    plt.subplot(2,2,i+1)\n",
    "    pd.Series(data[i]).hist(bins=100)\n",
    "    mylabel = \"{}\".format(dices[i])\n",
    "    plt.legend(mylabel)"
   ]
  },
  {
   "cell_type": "markdown",
   "metadata": {},
   "source": [
    "### Q12"
   ]
  },
  {
   "cell_type": "code",
   "execution_count": 139,
   "metadata": {},
   "outputs": [],
   "source": [
    "# q12\n",
    "import random\n",
    "import pandas as pd\n",
    "\n",
    "\n",
    "def card_steps(data, x): # x is start position\n",
    "    steps = 0\n",
    "    tmp = []\n",
    "    while x < data.__len__():\n",
    "        tmp.append(x)\n",
    "        steps = data[x]\n",
    "        x = x + steps\n",
    "    return tmp\n",
    "\n"
   ]
  },
  {
   "cell_type": "code",
   "execution_count": 140,
   "metadata": {},
   "outputs": [
    {
     "data": {
      "text/html": [
       "<div>\n",
       "<style scoped>\n",
       "    .dataframe tbody tr th:only-of-type {\n",
       "        vertical-align: middle;\n",
       "    }\n",
       "\n",
       "    .dataframe tbody tr th {\n",
       "        vertical-align: top;\n",
       "    }\n",
       "\n",
       "    .dataframe thead th {\n",
       "        text-align: right;\n",
       "    }\n",
       "</style>\n",
       "<table border=\"1\" class=\"dataframe\">\n",
       "  <thead>\n",
       "    <tr style=\"text-align: right;\">\n",
       "      <th></th>\n",
       "      <th>0</th>\n",
       "      <th>1</th>\n",
       "      <th>2</th>\n",
       "      <th>3</th>\n",
       "      <th>4</th>\n",
       "      <th>5</th>\n",
       "      <th>6</th>\n",
       "      <th>7</th>\n",
       "      <th>8</th>\n",
       "      <th>9</th>\n",
       "    </tr>\n",
       "  </thead>\n",
       "  <tbody>\n",
       "    <tr>\n",
       "      <th>0</th>\n",
       "      <td>50</td>\n",
       "      <td>50</td>\n",
       "      <td>50</td>\n",
       "      <td>50</td>\n",
       "      <td>50</td>\n",
       "      <td>50</td>\n",
       "      <td>50</td>\n",
       "      <td>51</td>\n",
       "      <td>50</td>\n",
       "      <td>51</td>\n",
       "    </tr>\n",
       "    <tr>\n",
       "      <th>1</th>\n",
       "      <td>48</td>\n",
       "      <td>48</td>\n",
       "      <td>48</td>\n",
       "      <td>48</td>\n",
       "      <td>48</td>\n",
       "      <td>48</td>\n",
       "      <td>48</td>\n",
       "      <td>48</td>\n",
       "      <td>48</td>\n",
       "      <td>48</td>\n",
       "    </tr>\n",
       "    <tr>\n",
       "      <th>2</th>\n",
       "      <td>49</td>\n",
       "      <td>49</td>\n",
       "      <td>51</td>\n",
       "      <td>49</td>\n",
       "      <td>49</td>\n",
       "      <td>49</td>\n",
       "      <td>49</td>\n",
       "      <td>51</td>\n",
       "      <td>49</td>\n",
       "      <td>49</td>\n",
       "    </tr>\n",
       "    <tr>\n",
       "      <th>3</th>\n",
       "      <td>45</td>\n",
       "      <td>45</td>\n",
       "      <td>49</td>\n",
       "      <td>49</td>\n",
       "      <td>49</td>\n",
       "      <td>49</td>\n",
       "      <td>49</td>\n",
       "      <td>49</td>\n",
       "      <td>45</td>\n",
       "      <td>45</td>\n",
       "    </tr>\n",
       "    <tr>\n",
       "      <th>4</th>\n",
       "      <td>47</td>\n",
       "      <td>47</td>\n",
       "      <td>45</td>\n",
       "      <td>45</td>\n",
       "      <td>47</td>\n",
       "      <td>45</td>\n",
       "      <td>47</td>\n",
       "      <td>45</td>\n",
       "      <td>45</td>\n",
       "      <td>45</td>\n",
       "    </tr>\n",
       "  </tbody>\n",
       "</table>\n",
       "</div>"
      ],
      "text/plain": [
       "    0   1   2   3   4   5   6   7   8   9\n",
       "0  50  50  50  50  50  50  50  51  50  51\n",
       "1  48  48  48  48  48  48  48  48  48  48\n",
       "2  49  49  51  49  49  49  49  51  49  49\n",
       "3  45  45  49  49  49  49  49  49  45  45\n",
       "4  47  47  45  45  47  45  47  45  45  45"
      ]
     },
     "execution_count": 140,
     "metadata": {},
     "output_type": "execute_result"
    }
   ],
   "source": [
    "# q12a\n",
    "# verify the start steps\n",
    "steps = [x for x in range(1,11)]  # specific picks from starts\n",
    "n = 10000\n",
    "result = pd.DataFrame()\n",
    "\n",
    "for i in range(n):\n",
    "    output = []\n",
    "    num_list = [5 if y == 11 or y== 12 or y== 13 else y for y in range(1,14)]\n",
    "    a = num_list*4 \n",
    "    data1 = random.sample(a,52)\n",
    "    for x in steps:\n",
    "        output.append( card_steps(data1, x)[-1])\n",
    "    # print(i, output)\n",
    "    df = pd.DataFrame({i:output})\n",
    "    result = pd.concat([result,df],axis = 1).reset_index(drop=True)\n",
    "    #df = pd.DataFrame(output , columns=[i])\n",
    "    #result.insert(i,i, output) # warring messege show poor performace\n",
    "    #print('When the start steps is', x , ', the position and frequency are \\n ', df.groupby('a').size()/n)\n",
    "result.transpose().head() # show first 5 rows\n"
   ]
  },
  {
   "cell_type": "code",
   "execution_count": 141,
   "metadata": {},
   "outputs": [
    {
     "name": "stdout",
     "output_type": "stream",
     "text": [
      "The max prob in same position is  1.0\n",
      "The min prob in same position is  0.4\n",
      "The frequency is \n",
      " 1.0    5654\n",
      "0.6    1039\n",
      "0.8     985\n",
      "0.7     945\n",
      "0.9     814\n",
      "0.5     528\n",
      "0.4      35\n",
      "dtype: int64\n"
     ]
    },
    {
     "data": {
      "text/plain": [
       "<AxesSubplot:>"
      ]
     },
     "execution_count": 141,
     "metadata": {},
     "output_type": "execute_result"
    },
    {
     "data": {
      "image/png": "[encoded data removed]",
      "text/plain": [
       "<Figure size 432x288 with 1 Axes>"
      ]
     },
     "metadata": {
      "needs_background": "light"
     },
     "output_type": "display_data"
    }
   ],
   "source": [
    "prob_max = []\n",
    "for i in range(n):\n",
    "    prob_max.append(max(result.groupby(i).size())/10)\n",
    "print('The max prob in same position is ', max(prob_max))\n",
    "print('The min prob in same position is ', min(prob_max))\n",
    "print('The frequency is \\n', pd.DataFrame(prob_max).value_counts())\n",
    "pd.Series(prob_max).hist()"
   ]
  },
  {
   "cell_type": "markdown",
   "metadata": {},
   "source": [
    "## q12a Results\n",
    "1. No matter how we change the steps, most of time will end in same position in every run, $p > 0.5$ roughly.\n",
    "2. Bonus: If we want to check 10000 runs and find the frequency of position will stop in  the experiments. If our steps of face cards is 5, the higher probability will happen in [51, 50, 49, 48, 47] elements because of all 52 cards average steps is around 5. The experiments as below:"
   ]
  },
  {
   "cell_type": "code",
   "execution_count": 142,
   "metadata": {},
   "outputs": [
    {
     "name": "stdout",
     "output_type": "stream",
     "text": [
      "When the start steps is 1 , the position and frequency are \n",
      "  0\n",
      "42    0.0152\n",
      "43    0.0264\n",
      "44    0.0457\n",
      "45    0.0576\n",
      "46    0.0680\n",
      "47    0.1259\n",
      "48    0.1410\n",
      "49    0.1609\n",
      "50    0.1795\n",
      "51    0.1798\n",
      "dtype: float64\n",
      "When the start steps is 2 , the position and frequency are \n",
      "  1\n",
      "42    0.0159\n",
      "43    0.0264\n",
      "44    0.0461\n",
      "45    0.0566\n",
      "46    0.0683\n",
      "47    0.1279\n",
      "48    0.1390\n",
      "49    0.1594\n",
      "50    0.1783\n",
      "51    0.1821\n",
      "dtype: float64\n",
      "When the start steps is 3 , the position and frequency are \n",
      "  2\n",
      "42    0.0156\n",
      "43    0.0281\n",
      "44    0.0473\n",
      "45    0.0553\n",
      "46    0.0699\n",
      "47    0.1273\n",
      "48    0.1378\n",
      "49    0.1587\n",
      "50    0.1775\n",
      "51    0.1825\n",
      "dtype: float64\n",
      "When the start steps is 4 , the position and frequency are \n",
      "  3\n",
      "42    0.0150\n",
      "43    0.0275\n",
      "44    0.0474\n",
      "45    0.0553\n",
      "46    0.0698\n",
      "47    0.1295\n",
      "48    0.1376\n",
      "49    0.1602\n",
      "50    0.1755\n",
      "51    0.1822\n",
      "dtype: float64\n",
      "When the start steps is 5 , the position and frequency are \n",
      "  4\n",
      "42    0.0151\n",
      "43    0.0268\n",
      "44    0.0442\n",
      "45    0.0564\n",
      "46    0.0693\n",
      "47    0.1289\n",
      "48    0.1409\n",
      "49    0.1561\n",
      "50    0.1784\n",
      "51    0.1839\n",
      "dtype: float64\n",
      "When the start steps is 6 , the position and frequency are \n",
      "  5\n",
      "42    0.0145\n",
      "43    0.0274\n",
      "44    0.0465\n",
      "45    0.0573\n",
      "46    0.0692\n",
      "47    0.1241\n",
      "48    0.1427\n",
      "49    0.1586\n",
      "50    0.1801\n",
      "51    0.1796\n",
      "dtype: float64\n",
      "When the start steps is 7 , the position and frequency are \n",
      "  6\n",
      "42    0.0154\n",
      "43    0.0275\n",
      "44    0.0455\n",
      "45    0.0568\n",
      "46    0.0687\n",
      "47    0.1291\n",
      "48    0.1373\n",
      "49    0.1620\n",
      "50    0.1769\n",
      "51    0.1808\n",
      "dtype: float64\n",
      "When the start steps is 8 , the position and frequency are \n",
      "  7\n",
      "42    0.0151\n",
      "43    0.0272\n",
      "44    0.0458\n",
      "45    0.0558\n",
      "46    0.0684\n",
      "47    0.1238\n",
      "48    0.1371\n",
      "49    0.1646\n",
      "50    0.1789\n",
      "51    0.1833\n",
      "dtype: float64\n",
      "When the start steps is 9 , the position and frequency are \n",
      "  8\n",
      "42    0.0148\n",
      "43    0.0277\n",
      "44    0.0463\n",
      "45    0.0570\n",
      "46    0.0703\n",
      "47    0.1287\n",
      "48    0.1375\n",
      "49    0.1558\n",
      "50    0.1775\n",
      "51    0.1844\n",
      "dtype: float64\n",
      "When the start steps is 10 , the position and frequency are \n",
      "  9\n",
      "42    0.0146\n",
      "43    0.0261\n",
      "44    0.0455\n",
      "45    0.0563\n",
      "46    0.0689\n",
      "47    0.1270\n",
      "48    0.1407\n",
      "49    0.1574\n",
      "50    0.1792\n",
      "51    0.1843\n",
      "dtype: float64\n"
     ]
    }
   ],
   "source": [
    "for i in range(10):\n",
    "    val = result.transpose().groupby(i).size()/n\n",
    "    print('When the start steps is', i+1 , ', the position and frequency are \\n ', val)\n",
    "#result"
   ]
  },
  {
   "cell_type": "code",
   "execution_count": 143,
   "metadata": {},
   "outputs": [],
   "source": [
    "# rewrite for function\n",
    "import pandas as pd\n",
    "\n",
    "def main_fun(face_setps=5 , num_card = 52, n=10000):\n",
    "    \n",
    "    steps = [x for x in range(1,11)]  # specific picks from starts\n",
    "    result = pd.DataFrame()\n",
    "    for i in range(n):\n",
    "        output = []\n",
    "        num_list = [face_setps if y == 11 or y== 12 or y== 13 else y for y in range(1,14)]\n",
    "        val = (4*num_card/52 )\n",
    "        a = num_list* int(val)\n",
    "        data1 = random.sample(a,num_card)\n",
    "        for x in steps:\n",
    "            output.append( card_steps(data1, x)[-1])\n",
    "        df = pd.DataFrame({i:output})\n",
    "        result = pd.concat([result,df],axis = 1).reset_index(drop=True)\n",
    "    return result"
   ]
  },
  {
   "cell_type": "code",
   "execution_count": 144,
   "metadata": {},
   "outputs": [
    {
     "name": "stdout",
     "output_type": "stream",
     "text": [
      "The max prob in same position is  1.0\n",
      "The min prob in same position is  0.5\n",
      "The frequency is \n",
      " 1.0    9377\n",
      "0.8     169\n",
      "0.9     145\n",
      "0.7     123\n",
      "0.6     114\n",
      "0.5      72\n",
      "dtype: int64\n"
     ]
    },
    {
     "data": {
      "text/plain": [
       "<AxesSubplot:>"
      ]
     },
     "execution_count": 144,
     "metadata": {},
     "output_type": "execute_result"
    },
    {
     "data": {
      "image/png": "[encoded data removed]",
      "text/plain": [
       "<Figure size 432x288 with 1 Axes>"
      ]
     },
     "metadata": {
      "needs_background": "light"
     },
     "output_type": "display_data"
    }
   ],
   "source": [
    "result = main_fun(num_card=104)\n",
    "\n",
    "prob_max = []\n",
    "for i in range(n):\n",
    "    prob_max.append(max(result.groupby(i).size())/10)\n",
    "print('The max prob in same position is ', max(prob_max))\n",
    "print('The min prob in same position is ', min(prob_max))\n",
    "print('The frequency is \\n', pd.DataFrame(prob_max).value_counts())\n",
    "pd.Series(prob_max).hist()"
   ]
  },
  {
   "cell_type": "markdown",
   "metadata": {},
   "source": [
    "## Playing 104 Cards Results\n",
    "1. Comparing to 52 cards, the 104 cards game will almost twice chance to win the game( final cards stop in the same positions).\n",
    "2. It also improve the worst case probability."
   ]
  },
  {
   "cell_type": "code",
   "execution_count": 145,
   "metadata": {},
   "outputs": [
    {
     "name": "stdout",
     "output_type": "stream",
     "text": [
      "The steps of face card =  1\n",
      "The max prob in same position is  1.0\n",
      "The min prob in same position is  0.4\n",
      "The frequency is \n",
      " 1.0    8074\n",
      "0.9     497\n",
      "0.8     418\n",
      "0.6     415\n",
      "0.7     389\n",
      "0.5     203\n",
      "0.4       4\n",
      "dtype: int64\n",
      "The steps of face card =  3\n",
      "The max prob in same position is  1.0\n",
      "The min prob in same position is  0.4\n",
      "The frequency is \n",
      " 1.0    6999\n",
      "0.9     677\n",
      "0.7     659\n",
      "0.6     651\n",
      "0.8     648\n",
      "0.5     351\n",
      "0.4      15\n",
      "dtype: int64\n",
      "The steps of face card =  5\n",
      "The max prob in same position is  1.0\n",
      "The min prob in same position is  0.4\n",
      "The frequency is \n",
      " 1.0    5731\n",
      "0.6    1010\n",
      "0.8     916\n",
      "0.7     913\n",
      "0.9     826\n",
      "0.5     559\n",
      "0.4      45\n",
      "dtype: int64\n",
      "The steps of face card =  7\n",
      "The max prob in same position is  1.0\n",
      "The min prob in same position is  0.4\n",
      "The frequency is \n",
      " 1.0    4494\n",
      "0.6    1334\n",
      "0.7    1229\n",
      "0.8    1113\n",
      "0.9    1048\n",
      "0.5     688\n",
      "0.4      94\n",
      "dtype: int64\n",
      "The steps of face card =  9\n",
      "The max prob in same position is  1.0\n",
      "The min prob in same position is  0.3\n",
      "The frequency is \n",
      " 1.0    3175\n",
      "0.6    1524\n",
      "0.7    1483\n",
      "0.8    1311\n",
      "0.9    1206\n",
      "0.5    1066\n",
      "0.4     232\n",
      "0.3       3\n",
      "dtype: int64\n"
     ]
    }
   ],
   "source": [
    "face_steps = [1,3,5,7,9]\n",
    "for x in face_steps:\n",
    "    print('The steps of face card = ', x)\n",
    "    result = main_fun(face_setps=x)\n",
    "    prob_max = []\n",
    "    for i in range(n):\n",
    "        prob_max.append(max(result.groupby(i).size())/10)\n",
    "    print('The max prob in same position is ', max(prob_max))\n",
    "    print('The min prob in same position is ', min(prob_max))\n",
    "    print('The frequency is \\n', pd.DataFrame(prob_max).value_counts())"
   ]
  },
  {
   "cell_type": "markdown",
   "metadata": {},
   "source": [
    "## Change steps of face card results in 52 cards:\n",
    "It's easy to say, the smaller steps of face cards, the higher probability will win."
   ]
  },
  {
   "cell_type": "code",
   "execution_count": 146,
   "metadata": {},
   "outputs": [
    {
     "name": "stdout",
     "output_type": "stream",
     "text": [
      "The steps of face card =  1\n",
      "The max prob in same position is  1.0\n",
      "The min prob in same position is  0.5\n",
      "The frequency is \n",
      " 1.0    9918\n",
      "0.9      26\n",
      "0.7      19\n",
      "0.8      18\n",
      "0.6      13\n",
      "0.5       6\n",
      "dtype: int64\n",
      "The steps of face card =  3\n",
      "The max prob in same position is  1.0\n",
      "The min prob in same position is  0.5\n",
      "The frequency is \n",
      " 1.0    9690\n",
      "0.6      73\n",
      "0.9      70\n",
      "0.8      69\n",
      "0.7      66\n",
      "0.5      32\n",
      "dtype: int64\n",
      "The steps of face card =  5\n",
      "The max prob in same position is  1.0\n",
      "The min prob in same position is  0.5\n",
      "The frequency is \n",
      " 1.0    9352\n",
      "0.6     158\n",
      "0.8     143\n",
      "0.7     132\n",
      "0.9     125\n",
      "0.5      90\n",
      "dtype: int64\n",
      "The steps of face card =  7\n",
      "The max prob in same position is  1.0\n",
      "The min prob in same position is  0.4\n",
      "The frequency is \n",
      " 1.0    8760\n",
      "0.6     303\n",
      "0.7     292\n",
      "0.8     280\n",
      "0.9     223\n",
      "0.5     141\n",
      "0.4       1\n",
      "dtype: int64\n",
      "The steps of face card =  9\n",
      "The max prob in same position is  1.0\n",
      "The min prob in same position is  0.4\n",
      "The frequency is \n",
      " 1.0    8067\n",
      "0.6     439\n",
      "0.9     432\n",
      "0.7     429\n",
      "0.8     414\n",
      "0.5     214\n",
      "0.4       5\n",
      "dtype: int64\n"
     ]
    }
   ],
   "source": [
    "\n",
    "face_steps = [1,3,5,7,9]\n",
    "for x in face_steps:\n",
    "    print('The steps of face card = ', x)\n",
    "    result = main_fun(face_setps=x, num_card=104)\n",
    "    prob_max = []\n",
    "    for i in range(n):\n",
    "        prob_max.append(max(result.groupby(i).size())/10)\n",
    "    print('The max prob in same position is ', max(prob_max))\n",
    "    print('The min prob in same position is ', min(prob_max))\n",
    "    print('The frequency is \\n', pd.DataFrame(prob_max).value_counts())"
   ]
  },
  {
   "cell_type": "markdown",
   "metadata": {},
   "source": [
    "## Change steps of face card results in 104 cards:\n",
    "1. It is more promissing outcome as we compare 52 cards results. Most of time will have 100% probability end in the same cards.\n",
    "2. The smaller face cards steps, the higher probability is.\n",
    "3. The more cards we play, the higher probability we win."
   ]
  },
  {
   "cell_type": "code",
   "execution_count": null,
   "metadata": {},
   "outputs": [],
   "source": []
  }
 ],
 "metadata": {
  "interpreter": {
   "hash": "563a2c0ea6f2acdfc9087cd98ee67c9cb1e2466419b057ba52d1e0559e64539c"
  },
  "kernelspec": {
   "display_name": "Python 3 (ipykernel)",
   "language": "python",
   "name": "python3"
  },
  "language_info": {
   "codemirror_mode": {
    "name": "ipython",
    "version": 3
   },
   "file_extension": ".py",
   "mimetype": "text/x-python",
   "name": "python",
   "nbconvert_exporter": "python",
   "pygments_lexer": "ipython3",
   "version": "3.9.5"
  }
 },
 "nbformat": 4,
 "nbformat_minor": 4
}
