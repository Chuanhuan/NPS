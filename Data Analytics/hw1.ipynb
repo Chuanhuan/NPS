{
 "cells": [
  {
   "cell_type": "markdown",
   "metadata": {},
   "source": [
    "<h1><center>Data Analytics</h1>\n",
    "<h2><center>Homework 1</h2>\n",
    "<h3><center>Name: 李權桓   &emsp;   ID:10546004</h3>"
   ]
  },
  {
   "cell_type": "markdown",
   "metadata": {},
   "source": [
    "### q1\n",
    "Let $p=\\frac{1}{4}$ as students  correctly answer multiple-choice questions.\n",
    "So, \n",
    "$$\n",
    "P(X=4)+P(X=5)=\\begin{pmatrix}  \n",
    "5 \\\\\n",
    "4\n",
    "\\end{pmatrix}\n",
    "p^{4}(1-p)^1 + \n",
    "\\begin{pmatrix}  \n",
    "5 \\\\\n",
    "5\n",
    "\\end{pmatrix}\n",
    "p^{5}(1-p)^0 $$"
   ]
  },
  {
   "cell_type": "code",
   "execution_count": 1,
   "metadata": {},
   "outputs": [
    {
     "data": {
      "text/plain": [
       "0.015625"
      ]
     },
     "execution_count": 1,
     "metadata": {},
     "output_type": "execute_result"
    }
   ],
   "source": [
    "#q1 \n",
    "p = .25\n",
    "5*p**4*(1-p) + p**5"
   ]
  },
  {
   "cell_type": "markdown",
   "metadata": {},
   "source": [
    "### q2\n",
    "Both side win and lose is $p=.5$. \n",
    "One team finish this game need to win at least 4 matches which means $n \\in \\lbrace 4,5,6,7 \\rbrace$. \n",
    "If one needs to win 4 games, which means probability is $p^4$ in order to get champion, each game is independent.\n",
    "If one needs to win 5 games, which means probability is $\\begin{pmatrix} 3 \\\\ 1 \\end{pmatrix} p^3q^1 p$ It needs to multiply $p$ because last game need to win by one team.\n",
    "Once we know 5 games, the 6 and 7 games same fashion. Howevery this only for one team, we need to multiply to 2 teams in order to get expected values. \n",
    "$$ \n",
    "(\n",
    "4p^4 +\n",
    "5\\begin{pmatrix} 4 \\\\ 1 \\end{pmatrix} p^4q^1 +\n",
    "6\\begin{pmatrix} 5 \\\\ 2 \\end{pmatrix} p^4q^2 +\n",
    "7\\begin{pmatrix} 6 \\\\ 3 \\end{pmatrix} p^4q^3 \n",
    ") \\cdot 2 = 5.8125\n",
    "$$ \n"
   ]
  },
  {
   "cell_type": "code",
   "execution_count": 124,
   "metadata": {},
   "outputs": [
    {
     "data": {
      "text/plain": [
       "5.8125"
      ]
     },
     "execution_count": 124,
     "metadata": {},
     "output_type": "execute_result"
    }
   ],
   "source": [
    "# q2\n",
    "p = .5\n",
    "q = 1-p\n",
    "2*( 4* p**4 + 5*4*p**4*q + 6*5*2*p**4*q**2 + 7*5*4*p**4*q**3 )"
   ]
  },
  {
   "cell_type": "markdown",
   "metadata": {},
   "source": [
    "### q3\n",
    "The fountain show starts every 80 mins and I can wait 20 mins for the show. So, the time will be uniform distribution.\n",
    "The probability is,\n",
    "$$P=\\frac{20}{80}=\\frac{1}{4}$$"
   ]
  },
  {
   "cell_type": "markdown",
   "metadata": {},
   "source": [
    "### q4a\n",
    "Mary enters at 8h10 and John still there means clerk 1 have been processing John's work at least 10 mins\n",
    "$$P(x>10) = 1 - (1- e^ {-10 \\mu_1} ) = e^ {-10 \\mu_1} $$\n",
    "\n",
    "### q4b\n",
    "According to Memoryless property, John finish time doesn't take history into account. Only present matters. So,\n",
    "\\begin{aligned}\n",
    "P(x_1 > x_2) \n",
    "&= \\int^\\infty_0 P\\lbrace x_1 > x_2 | x_1 =x \\rbrace \\lambda_1 e^{-\\lambda_1 x} \\\\\n",
    "&= \\int^\\infty_0 P\\lbrace x > x_2 \\rbrace \\lambda_1 e^{-\\lambda_1 x} \\\\\n",
    "&= \\int^\\infty_0 (1- e^{-\\lambda_2 x}) \\lambda_1 e^{-\\lambda_1 x} \\\\\n",
    "&= 1- \\frac{\\lambda_1}{\\lambda_1 + \\lambda_2} \\\\\n",
    "&= \\frac{\\mu_2}{\\mu_1+\\mu_2}\n",
    "\\end{aligned}"
   ]
  },
  {
   "cell_type": "markdown",
   "metadata": {},
   "source": [
    "### q5\n",
    "The train delay 1st row of matrix is delay min and 2 row is probability,\n",
    "$$\n",
    "\\begin{vmatrix}\n",
    "4 & 6 & 8 & 10 & 12 \\\\\n",
    "\\frac{1}{16} & \\frac{1}{8} & \\frac{1}{2} & \\frac{1}{4} & \\frac{1}{16}\n",
    "\\end{vmatrix}\n",
    "$$\n",
    "\n",
    "The bus delay is Normal Distribution which means the delay probability should take train delay as influence factor. \n",
    "It will need to consider if bus arrive earier than train probability and bus arrive after 8h20. \n",
    "$$Probability * (Probability \\; of \\; bus \\; arrive \\; before \\; train + Probability \\; of \\; bus \\; arrive \\; after \\; 8h20)$$\n",
    " \n",
    "Note: $Probability \\; of \\; bus \\; arrive \\; after \\; 8h20) = .5$ becasue is Normal distribution $\\mu$\n"
   ]
  },
  {
   "cell_type": "code",
   "execution_count": 2,
   "metadata": {},
   "outputs": [
    {
     "data": {
      "text/plain": [
       "0.7385057620862279"
      ]
     },
     "execution_count": 2,
     "metadata": {},
     "output_type": "execute_result"
    }
   ],
   "source": [
    "### q5\n",
    "from scipy.stats import norm\n",
    "(norm.cdf(14 , 20 , 2) + .5 ) * 1/16 + (norm.cdf(16 , 20 , 2) + .5 ) * 1/8 + \\\n",
    "    (norm.cdf(18 , 20 , 2) + .5 ) * 1/2 + (norm.cdf(20 , 20 , 2) + .5 ) * 1/4+  1/16\n"
   ]
  },
  {
   "cell_type": "markdown",
   "metadata": {},
   "source": [
    "### q6\n",
    "The Probability of cancer $P(C)=\\frac{1}{100}$, the probability dectect positive given somebody have cancer $P(D|C)=\\frac{99}{100}$\n",
    "According to Bayes' Theorem,\n",
    "$$\n",
    "\\begin{aligned}\n",
    "P(C|D) &= \\frac{P(C \\cap D)}{P(D)}\n",
    "&= \\frac{P(D|C)P(C)}{P(D|C)P(C) + P(D|C^\\prime)P(C^\\prime)}\n",
    "\\end{aligned}\n",
    "$$\n"
   ]
  },
  {
   "cell_type": "code",
   "execution_count": 3,
   "metadata": {},
   "outputs": [
    {
     "data": {
      "text/plain": [
       "0.4999999999999997"
      ]
     },
     "execution_count": 3,
     "metadata": {},
     "output_type": "execute_result"
    }
   ],
   "source": [
    "# q6a\n",
    "\n",
    "pc=.01\n",
    "pdc=.99\n",
    "(pdc*pc)/(pdc*pc+(1-pdc)*(1-pc))"
   ]
  },
  {
   "cell_type": "code",
   "execution_count": 4,
   "metadata": {},
   "outputs": [
    {
     "data": {
      "text/plain": [
       "0.9098360655737704"
      ]
     },
     "execution_count": 4,
     "metadata": {},
     "output_type": "execute_result"
    }
   ],
   "source": [
    "# q6b\n",
    "\n",
    "pc=.01\n",
    "pdc=.999\n",
    "(pdc*pc)/(pdc*pc+(1-pdc)*(1-pc))"
   ]
  },
  {
   "cell_type": "markdown",
   "metadata": {},
   "source": [
    "### q7\n",
    "CLT:\n",
    "$$\n",
    "Z = \\frac{\\bar{x} - \\mu }{ \\frac{\\sigma}{\\sqrt{n} } }\n",
    "$$\n",
    "\n",
    "a) less than 10 mins: $Z = \\frac{10 - 8.5 }{ \\frac{3.5}{\\sqrt{49} } }$"
   ]
  },
  {
   "cell_type": "code",
   "execution_count": 5,
   "metadata": {},
   "outputs": [
    {
     "data": {
      "text/plain": [
       "0.9986501019683699"
      ]
     },
     "execution_count": 5,
     "metadata": {},
     "output_type": "execute_result"
    }
   ],
   "source": [
    "# q7a\n",
    "import numpy as np\n",
    "from scipy.stats import norm\n",
    "mu = 8.5\n",
    "sigma = 3.5\n",
    "n=49\n",
    "z = (10- mu)/ (sigma /np.sqrt(n))\n",
    "norm.cdf(z)"
   ]
  },
  {
   "cell_type": "code",
   "execution_count": 6,
   "metadata": {},
   "outputs": [
    {
     "data": {
      "text/plain": [
       "0.9973002039367398"
      ]
     },
     "execution_count": 6,
     "metadata": {},
     "output_type": "execute_result"
    }
   ],
   "source": [
    "# q7b\n",
    "\n",
    "z1 = (10- mu)/ (sigma /np.sqrt(n))\n",
    "z2 = (7- mu)/ (sigma /np.sqrt(n))\n",
    "norm.cdf(z1) - norm.cdf(z2)"
   ]
  },
  {
   "cell_type": "code",
   "execution_count": 7,
   "metadata": {},
   "outputs": [
    {
     "data": {
      "text/plain": [
       "0.022750131948179195"
      ]
     },
     "execution_count": 7,
     "metadata": {},
     "output_type": "execute_result"
    }
   ],
   "source": [
    "#q7c\n",
    "\n",
    "z = (7.5- mu)/ (sigma /np.sqrt(n))\n",
    "norm.cdf(z)"
   ]
  },
  {
   "cell_type": "markdown",
   "metadata": {},
   "source": [
    "### q8\n",
    "The test statistic value:\n",
    "$$\n",
    "Z = \\frac{\\hat{p} - p_0 }{ \\sqrt{\\frac{p (1-p)}{n} } }\n",
    "$$"
   ]
  },
  {
   "cell_type": "code",
   "execution_count": 8,
   "metadata": {},
   "outputs": [
    {
     "data": {
      "text/plain": [
       "0.9544997361036416"
      ]
     },
     "execution_count": 8,
     "metadata": {},
     "output_type": "execute_result"
    }
   ],
   "source": [
    "# q8\n",
    "import numpy as np\n",
    "from scipy.stats import norm\n",
    "p = .4\n",
    "n= 600\n",
    "r1 = 216\n",
    "r2 = 264\n",
    "z1 = (r1/n- p)/ (np.sqrt(p*(1-p)/n))\n",
    "z2 = (r2/n- p)/ (np.sqrt(p*(1-p)/n))\n",
    "norm.cdf(z2) - norm.cdf(z1)"
   ]
  },
  {
   "cell_type": "markdown",
   "metadata": {},
   "source": [
    "### q9"
   ]
  },
  {
   "cell_type": "code",
   "execution_count": 133,
   "metadata": {},
   "outputs": [
    {
     "name": "stdout",
     "output_type": "stream",
     "text": [
      "0    38.144709\n",
      "1    26.156372\n",
      "2     8.594237\n",
      "3     1.800697\n",
      "dtype: float64\n",
      "0.027777777777777776\n"
     ]
    },
    {
     "name": "stderr",
     "output_type": "stream",
     "text": [
      "/tmp/ipykernel_4094/425235944.py:12: DeprecationWarning: The default dtype for empty Series will be 'object' instead of 'float64' in a future version. Specify a dtype explicitly to silence this warning.\n",
      "  exp = pd.Series()\n"
     ]
    }
   ],
   "source": [
    " # q9\n",
    "from scipy.stats import binom\n",
    "import pandas as pd\n",
    "\n",
    "obs = pd.Series([39 , 23, 12, 1])\n",
    "n = 24\n",
    "ss = 75\n",
    "\n",
    "xbar = (obs[0]*0 + obs[1]*1 + obs[2]*2 + obs[3]*3)/ss\n",
    "phat = xbar/n\n",
    "\n",
    "exp = pd.Series()\n",
    "for i in range(0,4):\n",
    "    exp.at[i] = ss * binom.pmf(i , n , phat)\n",
    "print(exp) \n",
    "\n",
    "print(phat)"
   ]
  },
  {
   "cell_type": "code",
   "execution_count": 10,
   "metadata": {},
   "outputs": [
    {
     "name": "stdout",
     "output_type": "stream",
     "text": [
      "when i is  0 tmp =  0.019177553372751635\n",
      "when i is  1 tmp =  0.3808893949356095\n",
      "when i is  2 tmp =  1.3496515570903822\n",
      "when i is  3 tmp =  0.3560376400292312\n",
      "2.1057561454279745\n"
     ]
    }
   ],
   "source": [
    "chi = 0\n",
    "for i in range(0,4):\n",
    "    tmp = (obs[i]-exp[i])**2 / exp[i]\n",
    "    print('when i is ', i , 'tmp = ', tmp)\n",
    "    chi = chi + tmp \n",
    "print(chi)"
   ]
  },
  {
   "cell_type": "code",
   "execution_count": 11,
   "metadata": {},
   "outputs": [
    {
     "name": "stdout",
     "output_type": "stream",
     "text": [
      "Q9: The test statistic value= 5.991464547107979\n",
      "Do not reject H_0\n"
     ]
    }
   ],
   "source": [
    "from scipy.stats import chi2\n",
    "val = chi2.ppf(.95,2)\n",
    "print('Q9: The test statistic value=', val)\n",
    "if chi < val:\n",
    "     print( 'Do not reject H_0')\n",
    "else:\n",
    "    print('Reject H_0')"
   ]
  },
  {
   "cell_type": "markdown",
   "metadata": {},
   "source": [
    "### q10"
   ]
  },
  {
   "cell_type": "markdown",
   "metadata": {},
   "source": []
  },
  {
   "cell_type": "code",
   "execution_count": 12,
   "metadata": {},
   "outputs": [
    {
     "data": {
      "text/plain": [
       "array([[15.75, 13.5 , 15.75],\n",
       "       [ 8.75,  7.5 ,  8.75],\n",
       "       [10.5 ,  9.  , 10.5 ]])"
      ]
     },
     "execution_count": 12,
     "metadata": {},
     "output_type": "execute_result"
    }
   ],
   "source": [
    "# q10\n",
    "import numpy as np\n",
    "a = np.array([[24, 11, 10], [7, 13, 5], [4, 6, 20]]) # observers\n",
    "obs = a.reshape((3,3))\n",
    "a_prob = a/100\n",
    "r_sum = a_prob.sum(axis=1)\n",
    "c_sum = a_prob.sum(axis=0)\n",
    "\n",
    "r_mat = r_sum.repeat(3,axis=0).reshape((3,3))\n",
    "c_mat = c_sum.repeat(3,axis=0).reshape((3,3)).T # do transpose\n",
    "exp = r_mat * c_mat *100 # expeted matrix\n",
    "exp"
   ]
  },
  {
   "cell_type": "code",
   "execution_count": 13,
   "metadata": {},
   "outputs": [
    {
     "data": {
      "text/plain": [
       "26.493121693121697"
      ]
     },
     "execution_count": 13,
     "metadata": {},
     "output_type": "execute_result"
    }
   ],
   "source": [
    "chi = 0\n",
    "for i in range(c_mat.shape[0]):\n",
    "    for j in range(c_mat.shape[1]):\n",
    "        tmp = (obs[i][j] - exp[i][j])**2 / exp[i][j]\n",
    "        chi = chi + tmp\n",
    "chi"
   ]
  },
  {
   "cell_type": "code",
   "execution_count": 17,
   "metadata": {},
   "outputs": [
    {
     "name": "stdout",
     "output_type": "stream",
     "text": [
      "Q10: The test statistic value= 13.276704135987622\n",
      "Reject H_0\n"
     ]
    }
   ],
   "source": [
    "\n",
    "from scipy.stats import chi2\n",
    "val = chi2.ppf(.99,4)\n",
    "print('Q10: The test statistic value=', val)\n",
    "if chi < val:\n",
    "     print( 'Do not reject H_0')\n",
    "else:\n",
    "    print('Reject H_0')"
   ]
  },
  {
   "cell_type": "markdown",
   "metadata": {},
   "source": [
    "### q11"
   ]
  },
  {
   "cell_type": "code",
   "execution_count": 129,
   "metadata": {},
   "outputs": [
    {
     "data": {
      "image/png": "[encoded data removed]",
      "text/plain": [
       "<Figure size 432x288 with 4 Axes>"
      ]
     },
     "metadata": {
      "needs_background": "light"
     },
     "output_type": "display_data"
    }
   ],
   "source": [
    "import random\n",
    "import numpy as np\n",
    "import pandas as pd\n",
    "import matplotlib.pyplot as plt\n",
    "dices = np.array([2,3,4,5])\n",
    "data = []\n",
    "\n",
    "# this might something wrong\n",
    "for i in dices:\n",
    "    result = []\n",
    "    for j in range(10000):\n",
    "        tmp = random.choices(range(1,7),k = i)\n",
    "        tmp = np.array(tmp).sum()/i # average\n",
    "        result.append(tmp)\n",
    "    data.append(result)\n",
    "\n",
    "\n",
    "fig, ax = plt.subplots(2, 2)\n",
    "\n",
    "for i in range(dices.size):\n",
    "    plt.subplot(2,2,i+1)\n",
    "    pd.Series(data[i]).hist(bins=100)\n",
    "    mylabel = \"{}\".format(dices[i])\n",
    "    plt.legend(mylabel)"
   ]
  },
  {
   "cell_type": "markdown",
   "metadata": {},
   "source": [
    "### Q12"
   ]
  },
  {
   "cell_type": "code",
   "execution_count": 103,
   "metadata": {},
   "outputs": [],
   "source": [
    "# q12\n",
    "\n",
    "def card_steps(data, x):\n",
    "    steps = 0\n",
    "    tmp = []\n",
    "    while x < data.__len__():\n",
    "        tmp.append(x)\n",
    "        steps = data[x]\n",
    "        x = x + steps\n",
    "    return tmp\n",
    "\n"
   ]
  },
  {
   "cell_type": "code",
   "execution_count": 104,
   "metadata": {},
   "outputs": [],
   "source": [
    "\n",
    "num_list = [5 if y == 11 or y== 12 or y== 13 else y for y in range(1,14)]\n",
    "a = num_list*4 \n",
    "data = random.sample(a,52)\n"
   ]
  },
  {
   "cell_type": "code",
   "execution_count": 118,
   "metadata": {},
   "outputs": [
    {
     "name": "stdout",
     "output_type": "stream",
     "text": [
      "Starts step is 1 , the output is  a\n",
      "47    100\n",
      "dtype: int64\n",
      "Starts step is 2 , the output is  a\n",
      "47    100\n",
      "dtype: int64\n",
      "Starts step is 3 , the output is  a\n",
      "47    100\n",
      "dtype: int64\n",
      "Starts step is 4 , the output is  a\n",
      "46    100\n",
      "dtype: int64\n",
      "Starts step is 5 , the output is  a\n",
      "47    100\n",
      "dtype: int64\n",
      "Starts step is 6 , the output is  a\n",
      "46    100\n",
      "dtype: int64\n",
      "Starts step is 7 , the output is  a\n",
      "47    100\n",
      "dtype: int64\n",
      "Starts step is 8 , the output is  a\n",
      "46    100\n",
      "dtype: int64\n",
      "Starts step is 9 , the output is  a\n",
      "47    100\n",
      "dtype: int64\n",
      "Starts step is 10 , the output is  a\n",
      "47    100\n",
      "dtype: int64\n"
     ]
    }
   ],
   "source": [
    "import pandas as pd\n",
    "\n",
    "new_picks = [x for x in range(1,11)]  # specific picks from starts\n",
    "\n",
    "for x in new_picks:\n",
    "    output = []\n",
    "    for i in range(100):\n",
    "        output.append( card_steps(data, x)[-1])\n",
    "    df = pd.DataFrame(output , columns=['a'])\n",
    "    print('Starts step is', x , ', the output is ', df.groupby('a').size())"
   ]
  },
  {
   "cell_type": "code",
   "execution_count": 122,
   "metadata": {},
   "outputs": [
    {
     "ename": "TypeError",
     "evalue": "can only join an iterable",
     "output_type": "error",
     "traceback": [
      "\u001b[0;31m---------------------------------------------------------------------------\u001b[0m",
      "\u001b[0;31mTypeError\u001b[0m                                 Traceback (most recent call last)",
      "\u001b[0;32m/tmp/ipykernel_4094/2375692239.py\u001b[0m in \u001b[0;36m<module>\u001b[0;34m\u001b[0m\n\u001b[1;32m      1\u001b[0m \u001b[0ma\u001b[0m \u001b[0;34m=\u001b[0m \u001b[0;34m[\u001b[0m\u001b[0;36m1\u001b[0m\u001b[0;34m,\u001b[0m\u001b[0;36m2\u001b[0m\u001b[0;34m,\u001b[0m\u001b[0;36m3\u001b[0m\u001b[0;34m,\u001b[0m\u001b[0;36m4\u001b[0m\u001b[0;34m]\u001b[0m\u001b[0;34m\u001b[0m\u001b[0;34m\u001b[0m\u001b[0m\n\u001b[1;32m      2\u001b[0m \u001b[0mb\u001b[0m \u001b[0;34m=\u001b[0m \u001b[0;34m[\u001b[0m\u001b[0;34m'a'\u001b[0m\u001b[0;34m,\u001b[0m\u001b[0;34m'b'\u001b[0m\u001b[0;34m,\u001b[0m\u001b[0;34m'c'\u001b[0m\u001b[0;34m,\u001b[0m\u001b[0;34m'd'\u001b[0m\u001b[0;34m]\u001b[0m\u001b[0;34m\u001b[0m\u001b[0;34m\u001b[0m\u001b[0m\n\u001b[0;32m----> 3\u001b[0;31m \u001b[0mb\u001b[0m\u001b[0;34m[\u001b[0m\u001b[0;36m1\u001b[0m\u001b[0;34m]\u001b[0m\u001b[0;34m.\u001b[0m\u001b[0mjoin\u001b[0m\u001b[0;34m(\u001b[0m\u001b[0ma\u001b[0m\u001b[0;34m[\u001b[0m\u001b[0;36m1\u001b[0m\u001b[0;34m]\u001b[0m\u001b[0;34m)\u001b[0m\u001b[0;34m\u001b[0m\u001b[0;34m\u001b[0m\u001b[0m\n\u001b[0m",
      "\u001b[0;31mTypeError\u001b[0m: can only join an iterable"
     ]
    }
   ],
   "source": [
    "a = [1,2,3,4]\n",
    "b = ['a','b','c','d']\n",
    "b[1].join(a[1])"
   ]
  },
  {
   "cell_type": "code",
   "execution_count": null,
   "metadata": {},
   "outputs": [],
   "source": []
  }
 ],
 "metadata": {
  "interpreter": {
   "hash": "563a2c0ea6f2acdfc9087cd98ee67c9cb1e2466419b057ba52d1e0559e64539c"
  },
  "kernelspec": {
   "display_name": "Python 3 (ipykernel)",
   "language": "python",
   "name": "python3"
  },
  "language_info": {
   "codemirror_mode": {
    "name": "ipython",
    "version": 3
   },
   "file_extension": ".py",
   "mimetype": "text/x-python",
   "name": "python",
   "nbconvert_exporter": "python",
   "pygments_lexer": "ipython3",
   "version": "3.9.5"
  }
 },
 "nbformat": 4,
 "nbformat_minor": 4
}
