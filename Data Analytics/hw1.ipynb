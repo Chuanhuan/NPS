{
 "cells": [
  {
   "cell_type": "markdown",
   "metadata": {},
   "source": [
    "<h1><center>Data Analytics</h1></center>\n",
    "<h2><center>Homework 1</h2></center>\n",
    "<h3><center>Name: 李權桓   &emsp;   ID:10546004</h3></center>"
   ]
  },
  {
   "cell_type": "markdown",
   "metadata": {},
   "source": [
    "### q1\n",
    "Let $p=\\frac{1}{4}$ as students  correctly answer multiple-choice questions.\n",
    "So, \n",
    "$$\n",
    "P(X=4)+P(X=5)=\\begin{pmatrix}  \n",
    "5 \\\\\n",
    "4\n",
    "\\end{pmatrix}\n",
    "p^{4}(1-p)^1 + \n",
    "\\begin{pmatrix}  \n",
    "5 \\\\\n",
    "5\n",
    "\\end{pmatrix}\n",
    "p^{5}(1-p)^0 $$"
   ]
  },
  {
   "cell_type": "code",
   "execution_count": 2,
   "metadata": {},
   "outputs": [
    {
     "data": {
      "text/plain": [
       "0.015625"
      ]
     },
     "execution_count": 2,
     "metadata": {},
     "output_type": "execute_result"
    }
   ],
   "source": [
    "#q1 \n",
    "p = .25\n",
    "5*p**4*(1-p) + p**5"
   ]
  },
  {
   "cell_type": "markdown",
   "metadata": {},
   "source": [
    "### q2\n",
    "Both side win and lose is $p=.5$. \n",
    "the expectation for win one game is $\\frac{1}{p}=2$\n",
    "If one time need to win 4 games in order to get champion, each game is independent.\n",
    "$$\\frac{1}{p} + \\frac{1}{p} + \\frac{1}{p} + \\frac{1}{p} = 8 $$ \n"
   ]
  },
  {
   "cell_type": "markdown",
   "metadata": {},
   "source": [
    "### q3\n",
    "The fountain show starts every 80 mins and I can wait 20 mins for the show. So, the time will be uniform distribution.\n",
    "The probability is,\n",
    "$$P=\\frac{20}{80}=\\frac{1}{4}$$"
   ]
  },
  {
   "cell_type": "markdown",
   "metadata": {},
   "source": [
    "### q4a\n",
    "Mary enters at 8h10 and John still there means clerk 1 have been processing John's work at least 10 mins\n",
    "$$P(x>10) = 1 - (1- e^ {-10 \\mu_1} ) = e^ {-10 \\mu_1} $$\n",
    "\n",
    "### q4b\n",
    "According to Memoryless property, John finish time doesn't take history into account. Only present matters. So,\n",
    "$$\\begin{aligned}\n",
    "P(x_1 > x_2) \n",
    "&= \\int^\\infty_0 P\\lbrace x_1 > x_2 | x_1 =x \\rbrace \\lambda_1 e^{-\\lambda_1 x} \\\\\n",
    "&= \\int^\\infty_0 P\\lbrace x > x_2 \\rbrace \\lambda_1 e^{-\\lambda_1 x} \\\\\n",
    "&= \\int^\\infty_0 (1- e^{-\\lambda_2 x}) \\lambda_1 e^{-\\lambda_1 x} \\\\\n",
    "&= 1- \\frac{\\lambda_1}{\\lambda_1 + \\lambda_2} \\\\\n",
    "&= \\frac{\\mu_2}{\\mu_1+\\mu_2}\n",
    "\n",
    "\\end{aligned}$$"
   ]
  },
  {
   "cell_type": "markdown",
   "metadata": {},
   "source": [
    "### q5\n",
    "The train delay 1st row of matrix is delay min and 2 row is probability,\n",
    "$$\n",
    "\\begin{vmatrix}\n",
    "4 & 6 & 8 & 10 & 12 \\\\\n",
    "\\frac{1}{16} & \\frac{1}{8} & \\frac{1}{2} & \\frac{1}{4} & \\frac{1}{16}\n",
    "\\end{vmatrix}\n",
    "$$\n",
    "\n",
    "The bus delay is Normal Distribution which means the delay probability should take train delay as influence factor. \n",
    "It will need to consider if bus arrive earier than train probability and bus arrive after 8h20. \n",
    "$$Probability * (Probability \\; of \\; bus \\; arrive \\; before \\; train + Probability \\; of \\; bus \\; arrive \\; after \\; 8h20)$$\n",
    " \n",
    "Note: $Probability \\; of \\; bus \\; arrive \\; after \\; 8h20) = .5$ becasue is Normal distribution $\\mu$\n"
   ]
  },
  {
   "cell_type": "code",
   "execution_count": 7,
   "metadata": {},
   "outputs": [
    {
     "data": {
      "text/plain": [
       "0.7385057620862279"
      ]
     },
     "execution_count": 7,
     "metadata": {},
     "output_type": "execute_result"
    }
   ],
   "source": [
    "### q5\n",
    "from scipy.stats import norm\n",
    "(norm.cdf(14 , 20 , 2) + .5 ) * 1/16 + (norm.cdf(16 , 20 , 2) + .5 ) * 1/8 + \\\n",
    "    (norm.cdf(18 , 20 , 2) + .5 ) * 1/2 + (norm.cdf(20 , 20 , 2) + .5 ) * 1/4+  1/16\n"
   ]
  },
  {
   "cell_type": "markdown",
   "metadata": {},
   "source": [
    "### q6\n",
    "The Probability of cancer $P(C)=\\frac{1}{100}$, the probability dectect positive given somebody have cancer $P(D|C)=\\frac{99}{100}$\n",
    "According to Bayes' Theorem,\n",
    "$$\n",
    "\\begin{aligned}\n",
    "P(C|D) &= \\frac{P(C \\cap D)}{P(D)}\n",
    "&= \\frac{P(D|C)P(C)}{P(D|C)P(C) + P(D|C^\\prime)P(C^\\prime)}\n",
    "\\end{aligned}\n",
    "$$\n"
   ]
  },
  {
   "cell_type": "code",
   "execution_count": 8,
   "metadata": {},
   "outputs": [
    {
     "data": {
      "text/plain": [
       "0.4999999999999997"
      ]
     },
     "execution_count": 8,
     "metadata": {},
     "output_type": "execute_result"
    }
   ],
   "source": [
    "# q6a\n",
    "\n",
    "pc=.01\n",
    "pdc=.99\n",
    "(pdc*pc)/(pdc*pc+(1-pdc)*(1-pc))"
   ]
  },
  {
   "cell_type": "code",
   "execution_count": 9,
   "metadata": {},
   "outputs": [
    {
     "data": {
      "text/plain": [
       "0.9098360655737704"
      ]
     },
     "execution_count": 9,
     "metadata": {},
     "output_type": "execute_result"
    }
   ],
   "source": [
    "# q6b\n",
    "\n",
    "pc=.01\n",
    "pdc=.999\n",
    "(pdc*pc)/(pdc*pc+(1-pdc)*(1-pc))"
   ]
  },
  {
   "cell_type": "markdown",
   "metadata": {},
   "source": [
    "### q7\n",
    "CLT:\n",
    "$$\n",
    "Z = \\frac{\\bar{x} - \\mu }{ \\frac{\\sigma}{\\sqrt{n} } }\n",
    "$$"
   ]
  }
 ],
 "metadata": {
  "interpreter": {
   "hash": "563a2c0ea6f2acdfc9087cd98ee67c9cb1e2466419b057ba52d1e0559e64539c"
  },
  "kernelspec": {
   "display_name": "Python 3.9.5 64-bit (conda)",
   "language": "python",
   "name": "python3"
  },
  "language_info": {
   "codemirror_mode": {
    "name": "ipython",
    "version": 3
   },
   "file_extension": ".py",
   "mimetype": "text/x-python",
   "name": "python",
   "nbconvert_exporter": "python",
   "pygments_lexer": "ipython3",
   "version": "3.9.5"
  },
  "orig_nbformat": 4
 },
 "nbformat": 4,
 "nbformat_minor": 2
}
