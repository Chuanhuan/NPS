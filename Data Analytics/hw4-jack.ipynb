{
 "cells": [
  {
   "cell_type": "markdown",
   "metadata": {},
   "source": [
    "\n",
    "\n",
    "\n",
    "<h1><center>Data Analytics</h1>\n",
    "<h2><center>Homework 4</h2>\n",
    "<h3><center>Name: 李權桓   &emsp;   ID:10546004</h3>"
   ]
  },
  {
   "cell_type": "markdown",
   "metadata": {},
   "source": [
    "# q1"
   ]
  },
  {
   "cell_type": "markdown",
   "metadata": {},
   "source": [
    "$$\n",
    "  S_1\n",
    "=\n",
    "\\begin{vmatrix}\n",
    "  1 & 0 & 0 \\\\  \n",
    "  0 & 1 & 0 \\\\\n",
    "  0 & 0 & 1 \\\\\n",
    "\\end{vmatrix}\n",
    "$$\n",
    "\n",
    "$$ \\begin{vmatrix}\n",
    "  S_1\n",
    "\\end{vmatrix} = \n",
    "1\\begin{vmatrix}\n",
    "  1 & 0  \\\\  \n",
    "  0 & 1  \\\\  \n",
    "\\end{vmatrix} - \n",
    "0\\begin{vmatrix}\n",
    "  0 & 0  \\\\  \n",
    "  0 & 1  \\\\  \n",
    "\\end{vmatrix} +\n",
    "0\\begin{vmatrix}\n",
    "  0 & 1  \\\\  \n",
    "  0 & 0  \\\\  \n",
    "\\end{vmatrix}=1\n",
    "$$\n",
    "\n",
    "$$\n",
    "tr[S_1]=1+1+1=3\n",
    "$$"
   ]
  },
  {
   "cell_type": "markdown",
   "metadata": {},
   "source": [
    "\n",
    "$$\n",
    "  S_2\n",
    "=\n",
    "\\begin{vmatrix}\n",
    "  1 & -\\frac{1}{2} & -\\frac{1}{2} \\\\  \n",
    "  -\\frac{1}{2} & 1 & -\\frac{1}{2} \\\\\n",
    "  -\\frac{1}{2} & -\\frac{1}{2} & 1 \\\\\n",
    "\\end{vmatrix}\n",
    "$$\n",
    "\n",
    "$$ \\begin{vmatrix}\n",
    "  S_1\n",
    "\\end{vmatrix} = \n",
    "1\\begin{vmatrix}\n",
    "  1 & -\\frac{1}{2}  \\\\  \n",
    "  -\\frac{1}{2} & 1  \\\\  \n",
    "\\end{vmatrix} + \n",
    "\\frac{1}{2} \\begin{vmatrix}\n",
    "  -\\frac{1}{2} & -\\frac{1}{2}  \\\\  \n",
    "  -\\frac{1}{2} & 1  \\\\  \n",
    "\\end{vmatrix} \n",
    "-\\frac{1}{2}\\begin{vmatrix}\n",
    "  -\\frac{1}{2} & 1  \\\\  \n",
    "  -\\frac{1}{2} & -\\frac{1}{2}  \\\\  \n",
    "\\end{vmatrix}=1-\\frac{4}{4}=0\n",
    "$$\n",
    "\n",
    "$$\n",
    "tr[S_1]=1+1+1=3\n",
    "$$"
   ]
  },
  {
   "cell_type": "markdown",
   "metadata": {},
   "source": [
    "# q2"
   ]
  },
  {
   "cell_type": "markdown",
   "metadata": {},
   "source": [
    "Try: covariance matrix 3x3 determinant <br />\n",
    "\n",
    "$$\n",
    "\\begin{align*}\n",
    "\\begin{vmatrix}\n",
    "    S_{11} & S_{12} & S_{13} \\\\\n",
    "    S_{21} & S_{22} & S_{23} \\\\\n",
    "    S_{31} & S_{32} & S_{33} \\\\\n",
    "\\end{vmatrix} &=\n",
    "S_{11}\\begin{vmatrix}\n",
    "    S_{22} & S_{23} \\\\\n",
    "    S_{32} & S_{33} \\\\\n",
    "\\end{vmatrix} -\n",
    "S_{12}\\begin{vmatrix}\n",
    "    S_{21}  & S_{23} \\\\\n",
    "    S_{31}  & S_{33} \\\\\n",
    "\\end{vmatrix} +\n",
    "S_{13}\\begin{vmatrix}\n",
    "    S_{21} & S_{22} \\\\\n",
    "    S_{31} & S_{32} \\\\\n",
    "\\end{vmatrix} \\\\&=\n",
    "S_{11}(S_{22}S_{33}-S_{23}^2) - \n",
    "S_{12}(S_{21}S_{33}-S_{23}S_{31})+\n",
    "S_{13}(S_{21}S_{32}-S_{22}S_{31}) \\\\ &=\n",
    "3S_{11}S_{22}S_{33} - S_{11}S_{23}^2 -S_{22}S_{13}^2 -S_{33}S_{12}^2 \\\\\n",
    "\n",
    "\\end{align*}   \n",
    "$$\n",
    "\n",
    "If the result devides $S_{11}S_{22}S_{33}$, it will get $|R|$"
   ]
  },
  {
   "cell_type": "markdown",
   "metadata": {},
   "source": [
    "Let $V$ as $diag(varaince)$, \n",
    "$$\n",
    "    S=V^{\\frac{1}{2}}R V^{\\frac{1}{2}}\n",
    "$$\n",
    "\n",
    "From matrix determinant, we know \n",
    "$$\n",
    "|AB|=|A||B|\n",
    "$$\n",
    "so, \n",
    "$$\n",
    "    \\begin{align*}\n",
    "        |S| &=|V^{\\frac{1}{2}}| |R| |V^{\\frac{1}{2}}| \\\\\n",
    "        &= |R| \\prod_{i=1}^n S_{ii}\n",
    "\n",
    "    \\end{align*}\n",
    "$$"
   ]
  },
  {
   "cell_type": "markdown",
   "metadata": {},
   "source": [
    "# q3"
   ]
  },
  {
   "cell_type": "markdown",
   "metadata": {},
   "source": [
    "## q3a\n",
    "$$\n",
    "\\bar{y_1}=\\frac{0.766+0.508+0.438+0.161}{4} = 0.46825\n",
    "$$"
   ]
  },
  {
   "cell_type": "code",
   "execution_count": 2,
   "metadata": {},
   "outputs": [
    {
     "data": {
      "text/plain": [
       "0.46825"
      ]
     },
     "execution_count": 2,
     "metadata": {},
     "output_type": "execute_result"
    }
   ],
   "source": [
    "(0.766+0.508+0.438+0.161)/4"
   ]
  },
  {
   "cell_type": "markdown",
   "metadata": {},
   "source": [
    "$$\n",
    "\\begin{aligned}\n",
    "Var(y_1) &=v(x_1+x_2)+v(x_3+x_4)+2cov(x_1+x_2, x_3+x_4) \\\\\n",
    "&= v(x_1)+v(x_2)+2cov(x_1, x_2)+\n",
    "    v(x_3)+v(x_4)+2cov(x_3, x_4) + \n",
    "    2\\{cov(x_1, x_3)+cov(x_1, x_4)+cov(x_2, x_3)+cov(x_2, x_4)\\} \\\\\n",
    "&= 3.892\n",
    "\\end{aligned}\n",
    "$$\n",
    "\n",
    "note:\n",
    "$$\n",
    "cov(x_1+x_2, x_3+x_4) = cov(x_1, x_3)+cov(x_1, x_4)+cov(x_2, x_3)+cov(x_2, x_4)\n",
    "$$"
   ]
  },
  {
   "cell_type": "code",
   "execution_count": 7,
   "metadata": {},
   "outputs": [
    {
     "data": {
      "text/plain": [
       "3.892"
      ]
     },
     "execution_count": 7,
     "metadata": {},
     "output_type": "execute_result"
    }
   ],
   "source": [
    ".856+.568+2*.625+.171+.043+2*.039+2*(.173+.127+.096+.067)"
   ]
  },
  {
   "cell_type": "markdown",
   "metadata": {},
   "source": [
    "## q3b\n",
    "\n",
    "$$\n",
    "\\bar{y_2}=\\frac{0.766-0.508}{2} = 0.129\n",
    "$$"
   ]
  },
  {
   "cell_type": "code",
   "execution_count": 8,
   "metadata": {},
   "outputs": [
    {
     "data": {
      "text/plain": [
       "0.129"
      ]
     },
     "execution_count": 8,
     "metadata": {},
     "output_type": "execute_result"
    }
   ],
   "source": [
    "(0.766-0.508)/2"
   ]
  },
  {
   "cell_type": "markdown",
   "metadata": {},
   "source": [
    "$$\n",
    "Var(y_2)= v(x_1)+v(x_2)-2cov(x_1, x_2)=0.174\n",
    "$$\n"
   ]
  },
  {
   "cell_type": "code",
   "execution_count": 9,
   "metadata": {},
   "outputs": [
    {
     "data": {
      "text/plain": [
       "0.17399999999999993"
      ]
     },
     "execution_count": 9,
     "metadata": {},
     "output_type": "execute_result"
    }
   ],
   "source": [
    ".856+.568-2*.625"
   ]
  },
  {
   "cell_type": "markdown",
   "metadata": {},
   "source": [
    "## q3c\n",
    "$$\n",
    "\\begin{align*}\n",
    "    cov(y_1, y_2) &= cov(y_1, x_1 - x_2) \\\\\n",
    "    &= cov(y_1, x_1 ) - cov(y_1, x_2) \\\\\n",
    "    &= \n",
    "    \\begin{pmatrix}\n",
    "      cov(x_1, x_1) + \\\\  \n",
    "      cov(x_2, x_1) + \\\\\n",
    "      cov(x_3, x_1) + \\\\\n",
    "      cov(x_4, x_1) \\\\\n",
    "    \\end{pmatrix} -\n",
    "\n",
    "    \\begin{pmatrix}\n",
    "      cov(x_1, x_2) + \\\\  \n",
    "      cov(x_2, x_2) + \\\\\n",
    "      cov(x_3, x_2) + \\\\\n",
    "      cov(x_4, x_2) \\\\\n",
    "    \\end{pmatrix} \n",
    "    &= 0.363\n",
    "\\end{align*}\n",
    "$$"
   ]
  },
  {
   "cell_type": "code",
   "execution_count": 11,
   "metadata": {},
   "outputs": [
    {
     "data": {
      "text/plain": [
       "0.36300000000000043"
      ]
     },
     "execution_count": 11,
     "metadata": {},
     "output_type": "execute_result"
    }
   ],
   "source": [
    "(.856+.635+.173+.096)-(.635+.568+.127+.067)"
   ]
  },
  {
   "cell_type": "markdown",
   "metadata": {},
   "source": [
    "# q4"
   ]
  },
  {
   "cell_type": "code",
   "execution_count": 66,
   "metadata": {},
   "outputs": [
    {
     "name": "stdout",
     "output_type": "stream",
     "text": [
      "s is \n",
      " [[0.40909091 0.68181818]\n",
      " [0.68181818 1.63636364]]\n",
      "The q4a T^2 is  [[13.63636364]]\n"
     ]
    }
   ],
   "source": [
    "import numpy as np\n",
    "from numpy.linalg import inv\n",
    "\n",
    "a =np.matrix([[2,8,6,8],[12,9,9,10]])\n",
    "b = np.matrix([a[0].mean() -7, a[1].mean() -11])\n",
    "s = np.cov(a)\n",
    "\n",
    "t_sqrt  = a.shape[1] * b *inv(s)*b.T\n",
    "print('s is \\n', inv(s))\n",
    "print('The q4a T^2 is ' , t_sqrt)"
   ]
  },
  {
   "cell_type": "markdown",
   "metadata": {},
   "source": [
    "## q4b\n",
    "$$\n",
    "T^2 \\sim T^2_{p,n-1} = \\frac{p(n-1)}{n-p}F_{\\alpha, p,n-p}\n",
    "=\\frac{2 \\times 3}{2}F_{0.05, 2,2}\n",
    "$$"
   ]
  },
  {
   "cell_type": "code",
   "execution_count": 51,
   "metadata": {},
   "outputs": [
    {
     "name": "stdout",
     "output_type": "stream",
     "text": [
      "f test statistic is  56.99999999999994\n"
     ]
    }
   ],
   "source": [
    "from scipy.stats import f\n",
    "print('f test statistic is ',  f.ppf(1-.05,2,2)*3)\n"
   ]
  },
  {
   "cell_type": "markdown",
   "metadata": {},
   "source": [
    "## q4c\n",
    "$$\n",
    "T^2 < T^2_{p,n-1}\n",
    "$$\n",
    "Do not reject H_0"
   ]
  },
  {
   "cell_type": "code",
   "execution_count": 69,
   "metadata": {},
   "outputs": [
    {
     "data": {
      "text/plain": [
       "13.636363636363637"
      ]
     },
     "execution_count": 69,
     "metadata": {},
     "output_type": "execute_result"
    }
   ],
   "source": [
    "150/11"
   ]
  },
  {
   "cell_type": "code",
   "execution_count": null,
   "metadata": {},
   "outputs": [],
   "source": []
  }
 ],
 "metadata": {
  "interpreter": {
   "hash": "916dbcbb3f70747c44a77c7bcd40155683ae19c65e1c03b4aa3499c5328201f1"
  },
  "kernelspec": {
   "display_name": "Python 3.10.2 64-bit",
   "language": "python",
   "name": "python3"
  },
  "language_info": {
   "codemirror_mode": {
    "name": "ipython",
    "version": 3
   },
   "file_extension": ".py",
   "mimetype": "text/x-python",
   "name": "python",
   "nbconvert_exporter": "python",
   "pygments_lexer": "ipython3",
   "version": "3.10.2"
  },
  "orig_nbformat": 4
 },
 "nbformat": 4,
 "nbformat_minor": 2
}
