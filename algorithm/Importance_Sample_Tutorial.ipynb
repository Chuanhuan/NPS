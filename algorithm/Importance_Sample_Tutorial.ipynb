{
  "nbformat": 4,
  "nbformat_minor": 0,
  "metadata": {
    "colab": {
      "provenance": []
    },
    "kernelspec": {
      "name": "python3",
      "display_name": "Python 3"
    },
    "language_info": {
      "name": "python"
    }
  },
  "cells": [
    {
      "cell_type": "code",
      "execution_count": null,
      "metadata": {
        "id": "stJsgCDtEUls"
      },
      "outputs": [],
      "source": [
        "import numpy as np\n",
        "import matplotlib.pyplot as plt"
      ]
    },
    {
      "cell_type": "code",
      "source": [
        "# Define the Dice\n",
        "\n",
        "# 1 to 6 Fair\n",
        "def sample_fair_dice():\n",
        "  return np.random.randint(1, 7)\n",
        "\n",
        "# 1 to 6 Biased\n",
        "def sample_biased_dice():\n",
        "  x = np.random.rand()\n",
        "\n",
        "  if x < 0.4:\n",
        "    return 1\n",
        "  elif x<0.6:\n",
        "    return 2\n",
        "  elif x<0.75:\n",
        "    return 3\n",
        "  elif x < 0.85:\n",
        "    return 4\n",
        "  elif x < 0.95:\n",
        "    return 5\n",
        "  else:\n",
        "    return 6\n",
        "\n",
        "def fair_dice_prob(x):\n",
        "  return 1/6\n",
        "\n",
        "def biased_dice_prob(x):\n",
        "  if x== 1:\n",
        "    return 0.4\n",
        "  elif x== 2:\n",
        "    return 0.2\n",
        "  elif x==3:\n",
        "    return 0.15\n",
        "  elif x==4:\n",
        "    return 0.1\n",
        "  elif x==5:\n",
        "    return 0.1\n",
        "  elif x==6:\n",
        "    return 0.05\n",
        "\n",
        "# sanity check\n",
        "sum_fair = 0\n",
        "sum_biased = 0\n",
        "for i in range(1,7):\n",
        "  sum_fair += fair_dice_prob(i)\n",
        "  sum_biased += biased_dice_prob(i)\n",
        "\n",
        "# can't check exactly == 1 because of numerical impercision\n",
        "if np.abs(sum_fair - 1) > 1e-6:\n",
        "  print(\"You made a dum-dum error in fair\")\n",
        "\n",
        "if np.abs(sum_biased - 1)> 1e-6:\n",
        "  print(\"You made a dum-dum error in biased\")"
      ],
      "metadata": {
        "id": "Q2ht7tHmEaT1"
      },
      "execution_count": null,
      "outputs": []
    },
    {
      "cell_type": "code",
      "source": [
        "# Plot distributions\n",
        "\n",
        "x_s = np.arange(1,7)\n",
        "p_fair = []\n",
        "p_biased = []\n",
        "for i in range(1,7):\n",
        "  p_fair.append(fair_dice_prob(i))\n",
        "  p_biased.append(biased_dice_prob(i))\n",
        "\n",
        "plt.bar(x_s - 0.2, p_fair, width=0.4, align='center', label='Fair Dice')\n",
        "plt.bar(x_s + 0.2, p_biased, width=0.4, align='center', label='Biased Dice')\n",
        "\n",
        "plt.xlabel('x')\n",
        "plt.ylabel('Probability')\n",
        "plt.title('Fair vs Biased Dice Probability')\n",
        "plt.xticks(x_s, x_s)  # Set x-axis ticks to match the outcomes\n",
        "plt.legend()\n",
        "plt.tight_layout()\n",
        "plt.show()"
      ],
      "metadata": {
        "id": "VZrssSAhFsNt",
        "colab": {
          "base_uri": "https://localhost:8080/",
          "height": 487
        },
        "outputId": "7830dd57-97b1-4d36-a3e3-f44b82a601b3"
      },
      "execution_count": null,
      "outputs": [
        {
          "output_type": "display_data",
          "data": {
            "text/plain": [
              "<Figure size 640x480 with 1 Axes>"
            ],
            "image/png": "[encoded data removed]"
          },
          "metadata": {}
        }
      ]
    },
    {
      "cell_type": "code",
      "source": [
        "# TRUE MEANS\n",
        "mean_fair = 0\n",
        "mean_biased = 0\n",
        "\n",
        "for i in range(1,7):\n",
        "  mean_fair += fair_dice_prob(i) * i\n",
        "  mean_biased += biased_dice_prob(i) * i\n",
        "\n",
        "print(f\"Fair Dice Mean: {mean_fair}\")\n",
        "print(f\"Biased Dice Mean: {mean_biased}\")\n",
        "\n",
        "if np.abs(mean_fair - mean_biased) > 1e-6:\n",
        "  print(\"Notice they are not the same...\")"
      ],
      "metadata": {
        "id": "yKwZT-seEaWU",
        "colab": {
          "base_uri": "https://localhost:8080/"
        },
        "outputId": "b587a711-4abf-42e0-c84e-41d93c8310cf"
      },
      "execution_count": null,
      "outputs": [
        {
          "output_type": "stream",
          "name": "stdout",
          "text": [
            "Fair Dice Mean: 3.5\n",
            "Biased Dice Mean: 2.45\n",
            "Notice they are not the same...\n"
          ]
        }
      ]
    },
    {
      "cell_type": "code",
      "source": [
        "# params:\n",
        "\n",
        "num_trials = 10000"
      ],
      "metadata": {
        "id": "bnLPDg5KEaYo"
      },
      "execution_count": null,
      "outputs": []
    },
    {
      "cell_type": "code",
      "source": [
        "# GOAL 1 (As defined in video)\n",
        "\n",
        "total = 0\n",
        "for _ in range(num_trials):\n",
        "  x = sample_fair_dice()\n",
        "  f = fair_dice_prob(x)\n",
        "  g = biased_dice_prob(x)\n",
        "  w = g/f\n",
        "\n",
        "  total += w*x\n",
        "\n",
        "mu_estimate = total/num_trials\n",
        "print(f\"Estimated mean of biased die g(x) is: {mu_estimate}\")\n",
        "print(f\"Error in estimate is: {np.abs(mean_biased - mu_estimate)}\")"
      ],
      "metadata": {
        "id": "1VbGESdHEabM",
        "colab": {
          "base_uri": "https://localhost:8080/"
        },
        "outputId": "358667cf-0669-4172-e333-4865ae1f6346"
      },
      "execution_count": null,
      "outputs": [
        {
          "output_type": "stream",
          "name": "stdout",
          "text": [
            "Estimated mean of biased die g(x) is: 2.451360000000158\n",
            "Error in estimate is: 0.0013600000001576795\n"
          ]
        }
      ]
    },
    {
      "cell_type": "code",
      "source": [
        "# GOAL 2 (As defined in video)\n",
        "\n",
        "samples_x = []\n",
        "w_i = []\n",
        "for _ in range(num_trials):\n",
        "  x = sample_fair_dice()\n",
        "  samples_x.append(x)\n",
        "  w_i.append(biased_dice_prob(x)/fair_dice_prob(x))\n",
        "\n",
        "w_i = np.array(w_i)\n",
        "W = np.sum(w_i)\n",
        "p_i = w_i/W\n",
        "\n",
        "# compute direct expectation\n",
        "mu_estimate_2 = 0\n",
        "for i in range(num_trials):\n",
        "  mu_estimate_2 += p_i[i] * samples_x[i]\n",
        "\n",
        "print(f\"Estimated mean of biased die g(x) is: {mu_estimate_2}\")\n",
        "print(f\"Error in estimate is: {np.abs(mean_biased - mu_estimate_2)}\")"
      ],
      "metadata": {
        "colab": {
          "base_uri": "https://localhost:8080/"
        },
        "id": "1nr1ur18G5Ea",
        "outputId": "3dbaa0af-4ee2-49b8-c23d-a34525c70ecf"
      },
      "execution_count": null,
      "outputs": [
        {
          "output_type": "stream",
          "name": "stdout",
          "text": [
            "Estimated mean of biased die g(x) is: 2.4530027680825897\n",
            "Error in estimate is: 0.00300276808258948\n"
          ]
        }
      ]
    },
    {
      "cell_type": "code",
      "source": [],
      "metadata": {
        "id": "s4_LYOEwHivj"
      },
      "execution_count": null,
      "outputs": []
    }
  ]
}